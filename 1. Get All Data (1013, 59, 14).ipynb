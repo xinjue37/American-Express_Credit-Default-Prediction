{
 "cells": [
  {
   "cell_type": "markdown",
   "id": "d6aba162",
   "metadata": {},
   "source": [
    "<a id = \"Table_of_content\"></a>\n",
    "# Table of content\n",
    "### 1. [Data Analysis and processing](#T1)\n",
    "#### &emsp; i)  [Drop all the attribute with more than 10% missing value](#T11)\n",
    "#### &emsp; ii) [Fill NULL in categorical data](#T12)\n",
    "#### &emsp; iii) [Fill NULL in numerical data](#T13)\n",
    "#### &emsp; iv) [Convert categorical data to numerical data](#T14)\n",
    "### 2. [Feature Engineering](#T2)\n",
    "#### &emsp; i)  [Add extra feature 1 (Difference between date) - 'Diff_date':day](#T21)\n",
    "#### &emsp; i)  [Add extra feature 2 (num_date) and categorize the data into 3 group](#T22)\n",
    "### 3. [Save the model](#T3)"
   ]
  },
  {
   "cell_type": "markdown",
   "id": "0a1d417b",
   "metadata": {},
   "source": [
    "# Objective\n",
    "* predict the probability that a customer does not pay back their credit card balance\n",
    "* Below output is an example that run 99,999 data"
   ]
  },
  {
   "cell_type": "markdown",
   "id": "edb42d63",
   "metadata": {},
   "source": [
    "<a id = \"T1\"></a></a><div style=\"text-align: right\"> <a href=#Table_of_content>Back?</a> </div>\n",
    "# Data Analysis and Processing"
   ]
  },
  {
   "cell_type": "markdown",
   "id": "b913fe5f",
   "metadata": {},
   "source": [
    "* Since our data contain more than 5 million data, our computer cannot support load all data at once,\n",
    "* Therefore, it is loaded and processed 1 million by million and later concatenate it\n",
    "* For each round, we change the \"num\" and \"skipr\" and the file name at the bottom of the notebook"
   ]
  },
  {
   "cell_type": "code",
   "execution_count": 1,
   "id": "9c40f1ab",
   "metadata": {},
   "outputs": [],
   "source": [
    "import numpy as np  \n",
    "import pandas as pd"
   ]
  },
  {
   "cell_type": "markdown",
   "id": "2c88381a",
   "metadata": {},
   "source": [
    "In total, we have 5,531,452 data in train dataset\n",
    "\n",
    "|Info|Index|num|skipr|\n",
    "|:-:|:-:|:-:|:-:|\n",
    "|G1|0 - 999, 998|999,999|---|\n",
    "|G2|999,998 - 1,999,987|999,990|1 + 999999|\n",
    "|G3|1,999,988 - 2,999,982|999995|1 + 999999 + 999990|\n",
    "|G4|2,999,983 - 3,999,971|999989|1 + 999999 + 999990 + 999995|\n",
    "|G5|3,999,972 - 4,999,963|999992|1 + 999999 + 999990 + 999995 + 999989|\n",
    "|G6|4,999,964 - 5,531,451|531487|1 + 999999 + 999990 + 999995 + 999989 + 999992|\n",
    "\n",
    "\n"
   ]
  },
  {
   "cell_type": "code",
   "execution_count": 2,
   "id": "ad70956e",
   "metadata": {},
   "outputs": [],
   "source": [
    "df_col_name = pd.read_csv('train_data.csv' ,nrows=1)"
   ]
  },
  {
   "cell_type": "code",
   "execution_count": 3,
   "id": "16ffed42",
   "metadata": {},
   "outputs": [],
   "source": [
    "# For first time, we just load 999,999 data （G1)\n",
    "df_train = pd.read_csv('train_data.csv',nrows= 999999) \n",
    "df_label = pd.read_csv(\"train_labels.csv\")"
   ]
  },
  {
   "cell_type": "code",
   "execution_count": 4,
   "id": "fc75fcb6",
   "metadata": {
    "scrolled": true
   },
   "outputs": [
    {
     "name": "stdout",
     "output_type": "stream",
     "text": [
      "Wall time: 0 ns\n"
     ]
    }
   ],
   "source": [
    "%%time\n",
    "# For Group 2 - 6\n",
    "# skipr = 1 + 999999 \n",
    "# num = 999990\n",
    "\n",
    "# df_train = pd.read_csv('train_data.csv', skiprows = skipr ,nrows=num, names = df_col_name.columns)  # 100萬\n",
    "# df_label = pd.read_csv(\"train_labels.csv\")"
   ]
  },
  {
   "cell_type": "code",
   "execution_count": 5,
   "id": "e26e9ec8",
   "metadata": {},
   "outputs": [
    {
     "data": {
      "text/plain": [
       "(99999, 190)"
      ]
     },
     "execution_count": 5,
     "metadata": {},
     "output_type": "execute_result"
    }
   ],
   "source": [
    "# Test for the customer id\n",
    "\n",
    "# df_train.head(5)\n",
    "# df_train.tail(5)\n",
    "df_train.shape\n",
    "# df_train.info() "
   ]
  },
  {
   "cell_type": "markdown",
   "id": "fd29334d",
   "metadata": {},
   "source": [
    "<a id = \"T11\"></a></a><div style=\"text-align: right\"> <a href=#Table_of_content>Back?</a> </div>\n",
    "### i) Drop all the attribute with more than 10% missing value"
   ]
  },
  {
   "cell_type": "code",
   "execution_count": 6,
   "id": "c3ee3635",
   "metadata": {},
   "outputs": [
    {
     "name": "stdout",
     "output_type": "stream",
     "text": [
      "Number of col with more than 1 missing value is = 117\n",
      "Number of col with more than 10 % missing value is = 39\n",
      "Number of col with more than 20 % missing value is = 34\n",
      "Number of col with more than 30 % missing value is = 32\n",
      "Number of col with more than 40 % missing value is = 31\n",
      "Number of col with more than 50 % missing value is = 30\n",
      "Number of col with more than 60 % missing value is = 25\n",
      "Number of col with more than 70 % missing value is = 25\n",
      "Number of col with more than 80 % missing value is = 23\n",
      "Number of col with more than 90 % missing value is = 15\n"
     ]
    }
   ],
   "source": [
    "col_miss = [col for col in df_train.columns if df_train[col].isnull().sum() > 1]\n",
    "print(f\"Number of col with more than 1 missing value is =\",len(col_miss))\n",
    "\n",
    "for i in range(1,10):\n",
    "    col_miss = [col for col in df_train.columns if df_train[col].isnull().sum() > i/10 * len(df_train)]\n",
    "    print(f\"Number of col with more than {i*10} % missing value is =\",len(col_miss))"
   ]
  },
  {
   "cell_type": "code",
   "execution_count": 7,
   "id": "cb1cd5d4",
   "metadata": {},
   "outputs": [
    {
     "name": "stdout",
     "output_type": "stream",
     "text": [
      "['S_3', 'D_42', 'D_43', 'D_46', 'D_48', 'D_49', 'D_50', 'D_53', 'S_7', 'D_56', 'S_9', 'D_61', 'D_62', 'B_17', 'D_66', 'D_73', 'D_76', 'D_77', 'R_9', 'D_82', 'B_29', 'D_87', 'D_88', 'D_105', 'D_106', 'R_26', 'D_108', 'D_110', 'D_111', 'B_39', 'S_27', 'B_42', 'D_132', 'D_134', 'D_135', 'D_136', 'D_137', 'D_138', 'D_142']\n"
     ]
    }
   ],
   "source": [
    "# col_miss_10 = [col for col in df_train.columns if df_train[col].isnull().sum() > 0.1 * len(df_train)]\n",
    "\n",
    "col_miss_10 = ['S_3', 'D_42', 'D_43', 'D_46', 'D_48', 'D_49', 'D_50', 'D_53', 'S_7', 'D_56', 'S_9', 'D_61', 'D_62', 'B_17', 'D_66', 'D_73', 'D_76', 'D_77', 'R_9', 'D_82', 'B_29', 'D_87', 'D_88', 'D_105', 'D_106', 'R_26', 'D_108', 'D_110', 'D_111', 'B_39', 'S_27', 'B_42', 'D_132', 'D_134', 'D_135', 'D_136', 'D_137', 'D_138', 'D_142']\n",
    "print(col_miss_10)"
   ]
  },
  {
   "cell_type": "code",
   "execution_count": 8,
   "id": "79fab157",
   "metadata": {},
   "outputs": [
    {
     "name": "stdout",
     "output_type": "stream",
     "text": [
      "39 attributes has been dropped\n"
     ]
    }
   ],
   "source": [
    "col_miss_10 = ['S_3', 'D_42', 'D_43', 'D_46', 'D_48', 'D_49', 'D_50', 'D_53', 'S_7', 'D_56', 'S_9', 'D_61', 'D_62', 'B_17', 'D_66', 'D_73', 'D_76', 'D_77', 'R_9', 'D_82', 'B_29', 'D_87', 'D_88', 'D_105', 'D_106', 'R_26', 'D_108', 'D_110', 'D_111', 'B_39', 'S_27', 'B_42', 'D_132', 'D_134', 'D_135', 'D_136', 'D_137', 'D_138', 'D_142']\n",
    "df_train = df_train.drop(columns = col_miss_10)\n",
    "print(len(col_miss_10),\"attributes has been dropped\")"
   ]
  },
  {
   "cell_type": "markdown",
   "id": "d4711dac",
   "metadata": {},
   "source": [
    "* For remaining attribute, \n",
    "* For categorical data, we can fill the NULL value by the __most occurances data__ \n",
    "* For numerical data, we can fill NULL value by the __mean values__"
   ]
  },
  {
   "cell_type": "code",
   "execution_count": 9,
   "id": "98bb20dd",
   "metadata": {},
   "outputs": [
    {
     "name": "stdout",
     "output_type": "stream",
     "text": [
      "4 Categorical variables (columns) are: ['D_63' 'D_64' 'S_2' 'customer_ID']\n",
      "147 Numerical variables (columns) are: ['B_1' 'B_10' 'B_11' 'B_12' 'B_13' 'B_14' 'B_15' 'B_16' 'B_18' 'B_19'\n",
      " 'B_2' 'B_20' 'B_21' 'B_22' 'B_23' 'B_24' 'B_25' 'B_26' 'B_27' 'B_28'\n",
      " 'B_3' 'B_30' 'B_31' 'B_32' 'B_33' 'B_36' 'B_37' 'B_38' 'B_4' 'B_40'\n",
      " 'B_41' 'B_5' 'B_6' 'B_7' 'B_8' 'B_9' 'D_102' 'D_103' 'D_104' 'D_107'\n",
      " 'D_109' 'D_112' 'D_113' 'D_114' 'D_115' 'D_116' 'D_117' 'D_118' 'D_119'\n",
      " 'D_120' 'D_121' 'D_122' 'D_123' 'D_124' 'D_125' 'D_126' 'D_127' 'D_128'\n",
      " 'D_129' 'D_130' 'D_131' 'D_133' 'D_139' 'D_140' 'D_141' 'D_143' 'D_144'\n",
      " 'D_145' 'D_39' 'D_41' 'D_44' 'D_45' 'D_47' 'D_51' 'D_52' 'D_54' 'D_55'\n",
      " 'D_58' 'D_59' 'D_60' 'D_65' 'D_68' 'D_69' 'D_70' 'D_71' 'D_72' 'D_74'\n",
      " 'D_75' 'D_78' 'D_79' 'D_80' 'D_81' 'D_83' 'D_84' 'D_86' 'D_89' 'D_91'\n",
      " 'D_92' 'D_93' 'D_94' 'D_96' 'P_2' 'P_3' 'P_4' 'R_1' 'R_10' 'R_11' 'R_12'\n",
      " 'R_13' 'R_14' 'R_15' 'R_16' 'R_17' 'R_18' 'R_19' 'R_2' 'R_20' 'R_21'\n",
      " 'R_22' 'R_23' 'R_24' 'R_25' 'R_27' 'R_28' 'R_3' 'R_4' 'R_5' 'R_6' 'R_7'\n",
      " 'R_8' 'S_11' 'S_12' 'S_13' 'S_15' 'S_16' 'S_17' 'S_18' 'S_19' 'S_20'\n",
      " 'S_22' 'S_23' 'S_24' 'S_25' 'S_26' 'S_5' 'S_6' 'S_8']\n"
     ]
    }
   ],
   "source": [
    "# define categorical variables (columns)\n",
    "categorical = list(df_train.select_dtypes('object').columns)\n",
    "print(f\"{len(categorical)} Categorical variables (columns) are: {np.sort(categorical)}\")\n",
    "\n",
    "# define numerical variables (columns)\n",
    "numerical = list(df_train.select_dtypes('number').columns)\n",
    "print(f\"{len(numerical)} Numerical variables (columns) are: {np.sort(numerical)}\")"
   ]
  },
  {
   "cell_type": "markdown",
   "id": "9cb92cfc",
   "metadata": {},
   "source": [
    "<a id = \"T12\"></a></a><div style=\"text-align: right\"> <a href=#Table_of_content>Back?</a> </div>\n",
    "### Fill NULL in categorical data"
   ]
  },
  {
   "cell_type": "code",
   "execution_count": 10,
   "id": "6ca62b2b",
   "metadata": {},
   "outputs": [
    {
     "name": "stdout",
     "output_type": "stream",
     "text": [
      "99999\n",
      "95919\n"
     ]
    }
   ],
   "source": [
    "print(df_train[\"D_63\"].value_counts().sum())\n",
    "print(df_train[\"D_64\"].value_counts().sum())"
   ]
  },
  {
   "attachments": {
    "image-2.png": {
     "image/png": "[encoded data removed]"
    }
   },
   "cell_type": "markdown",
   "id": "a5bb9df3",
   "metadata": {},
   "source": [
    "* From the website, here is the distribution of data\n",
    "![image-2.png](attachment:image-2.png)"
   ]
  },
  {
   "cell_type": "code",
   "execution_count": 11,
   "id": "100b77ab",
   "metadata": {},
   "outputs": [],
   "source": [
    "df_train[\"D_64\"] = df_train[\"D_64\"].fillna(\"O\")"
   ]
  },
  {
   "cell_type": "code",
   "execution_count": 12,
   "id": "b897ec68",
   "metadata": {},
   "outputs": [
    {
     "data": {
      "text/plain": [
       "99999"
      ]
     },
     "execution_count": 12,
     "metadata": {},
     "output_type": "execute_result"
    }
   ],
   "source": [
    "# df_train[\"D_63\"].value_counts().sum()\n",
    "df_train[\"D_64\"].value_counts().sum()"
   ]
  },
  {
   "cell_type": "markdown",
   "id": "10877dac",
   "metadata": {},
   "source": [
    "<a id = \"T13\"></a></a><div style=\"text-align: right\"> <a href=#Table_of_content>Back?</a> </div>\n",
    "### Fill NULL in numerical data"
   ]
  },
  {
   "cell_type": "code",
   "execution_count": 1,
   "id": "78c5f7bd",
   "metadata": {},
   "outputs": [
    {
     "ename": "NameError",
     "evalue": "name 'numerical' is not defined",
     "output_type": "error",
     "traceback": [
      "\u001b[1;31m---------------------------------------------------------------------------\u001b[0m",
      "\u001b[1;31mNameError\u001b[0m                                 Traceback (most recent call last)",
      "Input \u001b[1;32mIn [1]\u001b[0m, in \u001b[0;36m<cell line: 2>\u001b[1;34m()\u001b[0m\n\u001b[0;32m      1\u001b[0m saved_mean \u001b[38;5;241m=\u001b[39m []  \u001b[38;5;66;03m# Save the mean used so that when predict the outcome from unseen data, we can use back the same mean value\u001b[39;00m\n\u001b[1;32m----> 2\u001b[0m \u001b[38;5;28;01mfor\u001b[39;00m col \u001b[38;5;129;01min\u001b[39;00m \u001b[43mnumerical\u001b[49m:\n\u001b[0;32m      3\u001b[0m     mean \u001b[38;5;241m=\u001b[39m df_train[col]\u001b[38;5;241m.\u001b[39mmean()\n\u001b[0;32m      4\u001b[0m     df[col]\u001b[38;5;241m.\u001b[39mfillna(mean, inplace \u001b[38;5;241m=\u001b[39m \u001b[38;5;28;01mTrue\u001b[39;00m)\n",
      "\u001b[1;31mNameError\u001b[0m: name 'numerical' is not defined"
     ]
    }
   ],
   "source": [
    "saved_mean = []  # Save the mean used so that when predict the outcome from unseen data, we can use back the same mean value\n",
    "for col in numerical:\n",
    "    mean = df_train[col].mean()\n",
    "    df_train[col] = df_train[col].fillna(mean)\n",
    "    saved_mean.append(mean)"
   ]
  },
  {
   "cell_type": "code",
   "execution_count": 14,
   "id": "fcd3ed0c",
   "metadata": {},
   "outputs": [
    {
     "name": "stdout",
     "output_type": "stream",
     "text": [
      "The train dataset contain NULL value ? False\n"
     ]
    }
   ],
   "source": [
    "print(\"The train dataset contain NULL value ?\",any(df_train.isnull().sum()))"
   ]
  },
  {
   "cell_type": "markdown",
   "id": "427aff6a",
   "metadata": {},
   "source": [
    "<a id = \"T14\"></a></a><div style=\"text-align: right\"> <a href=#Table_of_content>Back?</a> </div>\n",
    "### iv) Convert categorical data to numerical data"
   ]
  },
  {
   "cell_type": "markdown",
   "id": "bab534d6",
   "metadata": {},
   "source": [
    "* For D_63 attribute"
   ]
  },
  {
   "cell_type": "code",
   "execution_count": 15,
   "id": "b0389efc",
   "metadata": {
    "scrolled": true
   },
   "outputs": [
    {
     "data": {
      "text/plain": [
       "CO    73773\n",
       "CR    17378\n",
       "CL     8059\n",
       "XZ      485\n",
       "XM      159\n",
       "XL      145\n",
       "Name: D_63, dtype: int64"
      ]
     },
     "execution_count": 15,
     "metadata": {},
     "output_type": "execute_result"
    }
   ],
   "source": [
    "df_train[\"D_63\"].value_counts()"
   ]
  },
  {
   "cell_type": "code",
   "execution_count": 16,
   "id": "9ea83d06",
   "metadata": {},
   "outputs": [],
   "source": [
    "df_train[\"D_63\"] = df_train[\"D_63\"].replace(['CR','CO',\"CL\",\"XZ\",\"XM\",\"XL\"],[1, 5/6, 4/6, 3/6, 2/6, 1/6])"
   ]
  },
  {
   "cell_type": "code",
   "execution_count": 17,
   "id": "212c39f9",
   "metadata": {},
   "outputs": [
    {
     "data": {
      "text/plain": [
       "0.16666666666666666"
      ]
     },
     "execution_count": 17,
     "metadata": {},
     "output_type": "execute_result"
    }
   ],
   "source": [
    "df_train[\"D_63\"].min() "
   ]
  },
  {
   "cell_type": "markdown",
   "id": "f2113333",
   "metadata": {},
   "source": [
    "* For D_64 attribute"
   ]
  },
  {
   "cell_type": "code",
   "execution_count": 18,
   "id": "0a8003c0",
   "metadata": {},
   "outputs": [
    {
     "data": {
      "text/plain": [
       "O     57382\n",
       "U     27388\n",
       "R     14535\n",
       "-1      694\n",
       "Name: D_64, dtype: int64"
      ]
     },
     "execution_count": 18,
     "metadata": {},
     "output_type": "execute_result"
    }
   ],
   "source": [
    "df_train[\"D_64\"].value_counts()"
   ]
  },
  {
   "cell_type": "code",
   "execution_count": 19,
   "id": "43ad6942",
   "metadata": {},
   "outputs": [],
   "source": [
    "df_train[\"D_64\"] = df_train[\"D_64\"].replace(['O','U',\"R\",\"-1\"],[1,3/4,2/4,1/4])"
   ]
  },
  {
   "cell_type": "code",
   "execution_count": 20,
   "id": "4d4103e8",
   "metadata": {},
   "outputs": [
    {
     "data": {
      "text/plain": [
       "0.25"
      ]
     },
     "execution_count": 20,
     "metadata": {},
     "output_type": "execute_result"
    }
   ],
   "source": [
    "df_train[\"D_64\"].min()"
   ]
  },
  {
   "cell_type": "markdown",
   "id": "67a1facd",
   "metadata": {},
   "source": [
    "<a id = \"T2\"></a></a><div style=\"text-align: right\"> <a href=#Table_of_content>Back?</a> </div>\n",
    "# Feature Engineering"
   ]
  },
  {
   "cell_type": "code",
   "execution_count": 21,
   "id": "0ff4ddef",
   "metadata": {
    "scrolled": true
   },
   "outputs": [
    {
     "data": {
      "text/plain": [
       "<AxesSubplot:xlabel='customer_ID', ylabel='Count'>"
      ]
     },
     "execution_count": 21,
     "metadata": {},
     "output_type": "execute_result"
    },
    {
     "data": {
      "image/png": "[encoded data removed]",
      "text/plain": [
       "<Figure size 432x288 with 1 Axes>"
      ]
     },
     "metadata": {
      "needs_background": "light"
     },
     "output_type": "display_data"
    }
   ],
   "source": [
    "import seaborn as sns\n",
    "\n",
    "df_customer = df_train['customer_ID'].value_counts()\n",
    "sns.histplot(df_customer)"
   ]
  },
  {
   "cell_type": "code",
   "execution_count": 23,
   "id": "3a53b11a",
   "metadata": {},
   "outputs": [
    {
     "name": "stdout",
     "output_type": "stream",
     "text": [
      "There are total of 8294 customers in 999,999 data\n"
     ]
    }
   ],
   "source": [
    "df_customer.value_counts(sort=False)\n",
    "df_customer = df_train['customer_ID'].value_counts(sort=False)\n",
    "print(f\"There are total of {len(df_customer)} customers in 999,999 data\")"
   ]
  },
  {
   "cell_type": "code",
   "execution_count": 24,
   "id": "05c6e177",
   "metadata": {},
   "outputs": [
    {
     "data": {
      "text/plain": [
       "13    6964\n",
       "3       99\n",
       "4       92\n",
       "9      129\n",
       "12     191\n",
       "8      133\n",
       "2       96\n",
       "10     125\n",
       "1       92\n",
       "7       92\n",
       "6       84\n",
       "11     103\n",
       "5       94\n",
       "Name: customer_ID, dtype: int64"
      ]
     },
     "execution_count": 24,
     "metadata": {},
     "output_type": "execute_result"
    }
   ],
   "source": [
    "df_customer.value_counts(sort=False)"
   ]
  },
  {
   "cell_type": "markdown",
   "id": "9a0751f5",
   "metadata": {},
   "source": [
    "左邊是num_of_purchase, 右邊是num_customers"
   ]
  },
  {
   "cell_type": "markdown",
   "id": "636dc716",
   "metadata": {},
   "source": [
    "<a id = \"T21\"></a></a><div style=\"text-align: right\"> <a href=#Table_of_content>Back?</a> </div>\n",
    "### i) Add extra feature 1 (Difference between date) - 'Diff_date':day"
   ]
  },
  {
   "cell_type": "code",
   "execution_count": 25,
   "id": "2f36cfb6",
   "metadata": {},
   "outputs": [],
   "source": [
    "month_dic = {1:31, 2:59, 3:90, 4:120, 5:151, 6:181, 7:212, 8:243, 9:273, 10:304, 11:334, 12:365}\n",
    "diff_date = []\n",
    "\n",
    "def find_total_day(date):\n",
    "    year, month, day = map(int,date.split('-'))\n",
    "    total_day = year * 365 + month_dic[month] + day  \n",
    "    return total_day\n",
    "\n",
    "\n",
    "total_day_previous = find_total_day(df_train.iloc[0][\"S_2\"])  # First date in train_dataset\n",
    "for date in df_train[\"S_2\"]:\n",
    "    total_day_current = find_total_day(date)\n",
    "    if total_day_current > total_day_previous:\n",
    "        diff_date.append(total_day_current - total_day_previous)\n",
    "    else:\n",
    "        diff_date.append(0)\n",
    "    total_day_previous = total_day_current"
   ]
  },
  {
   "cell_type": "code",
   "execution_count": 26,
   "id": "61167a43",
   "metadata": {},
   "outputs": [
    {
     "name": "stdout",
     "output_type": "stream",
     "text": [
      "357\n"
     ]
    }
   ],
   "source": [
    "# Normalize it to between 0-1\n",
    "diff_date = np.array(diff_date)\n",
    "\n",
    "max_diff_date =  diff_date.max()\n",
    "diff_date = diff_date / max_diff_date\n",
    "print(max_diff_date)"
   ]
  },
  {
   "cell_type": "code",
   "execution_count": 27,
   "id": "bd77a149",
   "metadata": {},
   "outputs": [],
   "source": [
    "df_train.insert(2,\"Diff_date\",diff_date)"
   ]
  },
  {
   "cell_type": "markdown",
   "id": "f9fc057d",
   "metadata": {},
   "source": [
    "<a id = \"T22\"></a></a><div style=\"text-align: right\"> <a href=#Table_of_content>Back?</a> </div>\n",
    "### ii) Add extra feature 2 (num_date) and categorize the data into 3 group\n",
    "For each customer id, it is seperated to:\n",
    "* Group 1 (Have 10-13 rows of data) - df_train1013\n",
    "* Group 2 (Have 5 - 9 &nbsp; rows of data) - df_train59\n",
    "* Group 3 (Have 1 - 4 &nbsp; rows of data) - df_train14"
   ]
  },
  {
   "cell_type": "code",
   "execution_count": 28,
   "id": "56a619a8",
   "metadata": {},
   "outputs": [],
   "source": [
    "original_col_name = list(df_train.columns[2:])  # Exclude the first and second column \"customer_ID\" and S_2\n",
    "\n",
    "# function to get the column name for the dataframe\n",
    "def get_col_name(iteration):\n",
    "    column_name = []\n",
    "    for i in range(iteration):\n",
    "        for col_name in original_col_name:\n",
    "            column_name.append(col_name+f\"_{i}\")\n",
    "    return column_name"
   ]
  },
  {
   "cell_type": "code",
   "execution_count": 29,
   "id": "373ad40d",
   "metadata": {},
   "outputs": [],
   "source": [
    "df_cus_index = df_customer.index\n",
    "df_cus_index = df_cus_index.to_numpy()\n",
    "df_customer = df_customer.to_numpy()\n",
    "\n",
    "# Get the corresponding customer id for a group\n",
    "cus_10_13 = list(df_cus_index[df_customer >= 10])\n",
    "cus_5_9 = list(df_cus_index[np.where(np.logical_and(df_customer >= 5, df_customer <= 9))] )\n",
    "cus_1_4 = list(df_cus_index[df_customer < 5])\n",
    "\n",
    "# Create columns name corresponding to each group\n",
    "column_name_10_13 = get_col_name(10)\n",
    "column_name_5_9 = get_col_name(5)\n",
    "column_name_1_4 = get_col_name(1)"
   ]
  },
  {
   "cell_type": "code",
   "execution_count": 30,
   "id": "2de29fe0",
   "metadata": {},
   "outputs": [],
   "source": [
    "df_customer = df_train['customer_ID'].value_counts(sort=False)\n",
    "index_1013 = np.where((df_customer >= 10).to_numpy())[0]\n",
    "index_59 = np.where(np.logical_and(df_customer >= 5, df_customer <= 9))[0]\n",
    "index_14 = np.where(df_customer < 5)[0]\n"
   ]
  },
  {
   "cell_type": "code",
   "execution_count": 31,
   "id": "230c6d7f",
   "metadata": {},
   "outputs": [],
   "source": [
    "df_series = df_train.groupby(\"customer_ID\")[\"S_2\"].count()             # Get the count for the number of date for each customer_ID\n",
    "\n",
    "def process_train_data(cus_id, column_name, num):\n",
    "    df = df_train.loc[df_train['customer_ID'].isin(cus_id)]            # Get all row of data with the customer ID in 'cus_id'\n",
    "    df = df.groupby(\"customer_ID\").tail(num)                           # Get last 10 row\n",
    "    df.reset_index(drop=True)                                          # Reset the index to count from 0 - n\n",
    "    df = df.drop(columns =[\"customer_ID\",\"S_2\"])                       # Drop 2 columns of data\n",
    "    \n",
    "    row, col = df.shape\n",
    "    df = np.reshape(df.to_numpy(),(-1,num*col))                        # reshape from size (row,col) to (-1, num*col)\n",
    "    df = pd.DataFrame(df, columns = column_name)                        # convert back to pandas dataframe\n",
    "\n",
    "    new_attribute = df_series.loc[df_series.index.isin(cus_id)]        # Get the new attribute\n",
    "\n",
    "    df.insert(1,\"num_date\",np.array(new_attribute))                    # Insert new column of data\n",
    "    df[\"num_date\"] = df[\"num_date\"] / 13                               # Normalize new col to 0-1\n",
    "    return df"
   ]
  },
  {
   "cell_type": "code",
   "execution_count": 32,
   "id": "168a7fc1",
   "metadata": {},
   "outputs": [],
   "source": [
    "df_train1013 = process_train_data(cus_10_13, column_name_10_13, 10)\n",
    "df_train59 = process_train_data(cus_5_9, column_name_5_9, 5)\n",
    "df_train14 = process_train_data(cus_1_4, column_name_1_4, 1)"
   ]
  },
  {
   "cell_type": "code",
   "execution_count": 33,
   "id": "bcb00da1",
   "metadata": {},
   "outputs": [
    {
     "name": "stdout",
     "output_type": "stream",
     "text": [
      "(7383, 1501)\n",
      "(532, 751)\n",
      "(379, 151)\n"
     ]
    }
   ],
   "source": [
    "print(df_train1013.shape)\n",
    "print(df_train59.shape)\n",
    "print(df_train14.shape)"
   ]
  },
  {
   "cell_type": "markdown",
   "id": "1d5509b6",
   "metadata": {},
   "source": [
    "* For each customer ID, find all its corresponding label in the train_label "
   ]
  },
  {
   "cell_type": "code",
   "execution_count": 34,
   "id": "a9aaffad",
   "metadata": {},
   "outputs": [],
   "source": [
    "df_label_10_13 = df_label.loc[df_label['customer_ID'].isin(cus_10_13)]\n",
    "df_label_10_13 = df_label_10_13.reset_index(drop=True)\n",
    "\n",
    "df_label_5_9 = df_label.loc[df_label['customer_ID'].isin(cus_5_9)]\n",
    "df_label_5_9 = df_label_5_9.reset_index(drop=True)\n",
    "\n",
    "df_label_1_4 = df_label.loc[df_label['customer_ID'].isin(cus_1_4)]\n",
    "df_label_1_4 = df_label_1_4.reset_index(drop=True)"
   ]
  },
  {
   "cell_type": "code",
   "execution_count": 35,
   "id": "5c437635",
   "metadata": {},
   "outputs": [],
   "source": [
    "df_label_10_13 = df_label_10_13.drop(columns = ['customer_ID'])\n",
    "df_label_5_9 = df_label_5_9.drop(columns = ['customer_ID'])\n",
    "df_label_1_4 = df_label_1_4.drop(columns = ['customer_ID'])"
   ]
  },
  {
   "cell_type": "code",
   "execution_count": 36,
   "id": "d0db1116",
   "metadata": {},
   "outputs": [
    {
     "data": {
      "text/html": [
       "<div>\n",
       "<style scoped>\n",
       "    .dataframe tbody tr th:only-of-type {\n",
       "        vertical-align: middle;\n",
       "    }\n",
       "\n",
       "    .dataframe tbody tr th {\n",
       "        vertical-align: top;\n",
       "    }\n",
       "\n",
       "    .dataframe thead th {\n",
       "        text-align: right;\n",
       "    }\n",
       "</style>\n",
       "<table border=\"1\" class=\"dataframe\">\n",
       "  <thead>\n",
       "    <tr style=\"text-align: right;\">\n",
       "      <th></th>\n",
       "      <th>target</th>\n",
       "    </tr>\n",
       "  </thead>\n",
       "  <tbody>\n",
       "    <tr>\n",
       "      <th>0</th>\n",
       "      <td>0</td>\n",
       "    </tr>\n",
       "    <tr>\n",
       "      <th>1</th>\n",
       "      <td>0</td>\n",
       "    </tr>\n",
       "    <tr>\n",
       "      <th>2</th>\n",
       "      <td>0</td>\n",
       "    </tr>\n",
       "    <tr>\n",
       "      <th>3</th>\n",
       "      <td>0</td>\n",
       "    </tr>\n",
       "    <tr>\n",
       "      <th>4</th>\n",
       "      <td>0</td>\n",
       "    </tr>\n",
       "  </tbody>\n",
       "</table>\n",
       "</div>"
      ],
      "text/plain": [
       "   target\n",
       "0       0\n",
       "1       0\n",
       "2       0\n",
       "3       0\n",
       "4       0"
      ]
     },
     "execution_count": 36,
     "metadata": {},
     "output_type": "execute_result"
    }
   ],
   "source": [
    "df_label_10_13.head(5)"
   ]
  },
  {
   "cell_type": "markdown",
   "id": "3aaa4d4e",
   "metadata": {},
   "source": [
    "<a id = \"T22\"></a></a><div style=\"text-align: right\"> <a href=#Table_of_content>Back?</a> </div>\n",
    "# Save the model"
   ]
  },
  {
   "cell_type": "code",
   "execution_count": 38,
   "id": "7894fd0f",
   "metadata": {},
   "outputs": [],
   "source": [
    "df_label_10_13.to_csv(\"label_1013_0.csv\",index=False)\n",
    "df_label_5_9.to_csv(\"label_59_5.csv\",index=False)\n",
    "df_label_1_4.to_csv(\"label_14_5.csv\",index=False)\n",
    "\n",
    "df_train1013.to_csv(\"train_1013_0.csv\",index=False)\n",
    "df_train59.to_csv(\"train_59_0.csv\",index=False)\n",
    "df_train14.to_csv(\"train_14_0.csv\",index=False)"
   ]
  }
 ],
 "metadata": {
  "kernelspec": {
   "display_name": "Python 3 (ipykernel)",
   "language": "python",
   "name": "python3"
  },
  "language_info": {
   "codemirror_mode": {
    "name": "ipython",
    "version": 3
   },
   "file_extension": ".py",
   "mimetype": "text/x-python",
   "name": "python",
   "nbconvert_exporter": "python",
   "pygments_lexer": "ipython3",
   "version": "3.11.5"
  },
  "toc": {
   "base_numbering": 1,
   "nav_menu": {},
   "number_sections": true,
   "sideBar": true,
   "skip_h1_title": false,
   "title_cell": "Table of Contents",
   "title_sidebar": "Contents",
   "toc_cell": false,
   "toc_position": {},
   "toc_section_display": true,
   "toc_window_display": false
  }
 },
 "nbformat": 4,
 "nbformat_minor": 5
}
