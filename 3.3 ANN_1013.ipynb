{
 "cells": [
  {
   "cell_type": "markdown",
   "id": "d6aba162",
   "metadata": {},
   "source": [
    "<a id = \"Table_of_content\"></a>\n",
    "# Table of content\n",
    "### 1. [Data Cleaning](#T1)\n",
    "### 2. [Build the model](#T3)"
   ]
  },
  {
   "cell_type": "markdown",
   "id": "0a1d417b",
   "metadata": {},
   "source": [
    "# Objective\n",
    "* predict the probability that a customer does not pay back their credit card balance"
   ]
  },
  {
   "cell_type": "markdown",
   "id": "edb42d63",
   "metadata": {},
   "source": [
    "<a id = \"T1\"></a></a><div style=\"text-align: right\"> <a href=#Table_of_content>Back?</a> </div>\n",
    "# Data Cleaning"
   ]
  },
  {
   "cell_type": "code",
   "execution_count": 1,
   "id": "95667511",
   "metadata": {},
   "outputs": [],
   "source": [
    "import numpy as np\n",
    "import pandas as pd"
   ]
  },
  {
   "cell_type": "code",
   "execution_count": 2,
   "id": "fc75fcb6",
   "metadata": {},
   "outputs": [],
   "source": [
    "df_train = pd.read_csv('train_1013.csv',nrows = 160000)  \n",
    "df_label = pd.read_csv(\"label_1013.csv\",nrows = 160000)"
   ]
  },
  {
   "cell_type": "code",
   "execution_count": 3,
   "id": "1cb84bee",
   "metadata": {},
   "outputs": [
    {
     "name": "stdout",
     "output_type": "stream",
     "text": [
      "<class 'pandas.core.frame.DataFrame'>\n",
      "RangeIndex: 160000 entries, 0 to 159999\n",
      "Columns: 1501 entries, Diff_date_0 to D_145_9\n",
      "dtypes: float64(1501)\n",
      "memory usage: 1.8 GB\n"
     ]
    }
   ],
   "source": [
    "df_train.info()"
   ]
  },
  {
   "cell_type": "code",
   "execution_count": 4,
   "id": "c604c7cf",
   "metadata": {
    "scrolled": true
   },
   "outputs": [
    {
     "data": {
      "text/html": [
       "<div>\n",
       "<style scoped>\n",
       "    .dataframe tbody tr th:only-of-type {\n",
       "        vertical-align: middle;\n",
       "    }\n",
       "\n",
       "    .dataframe tbody tr th {\n",
       "        vertical-align: top;\n",
       "    }\n",
       "\n",
       "    .dataframe thead th {\n",
       "        text-align: right;\n",
       "    }\n",
       "</style>\n",
       "<table border=\"1\" class=\"dataframe\">\n",
       "  <thead>\n",
       "    <tr style=\"text-align: right;\">\n",
       "      <th></th>\n",
       "      <th>Diff_date_0</th>\n",
       "      <th>num_date</th>\n",
       "      <th>P_2_0</th>\n",
       "      <th>D_39_0</th>\n",
       "      <th>B_1_0</th>\n",
       "      <th>B_2_0</th>\n",
       "      <th>R_1_0</th>\n",
       "      <th>D_41_0</th>\n",
       "      <th>B_3_0</th>\n",
       "      <th>D_44_0</th>\n",
       "      <th>...</th>\n",
       "      <th>D_130_9</th>\n",
       "      <th>D_131_9</th>\n",
       "      <th>D_133_9</th>\n",
       "      <th>R_28_9</th>\n",
       "      <th>D_139_9</th>\n",
       "      <th>D_140_9</th>\n",
       "      <th>D_141_9</th>\n",
       "      <th>D_143_9</th>\n",
       "      <th>D_144_9</th>\n",
       "      <th>D_145_9</th>\n",
       "    </tr>\n",
       "  </thead>\n",
       "  <tbody>\n",
       "    <tr>\n",
       "      <th>0</th>\n",
       "      <td>0.040431</td>\n",
       "      <td>1.0</td>\n",
       "      <td>0.960384</td>\n",
       "      <td>0.002455</td>\n",
       "      <td>0.013683</td>\n",
       "      <td>1.002700</td>\n",
       "      <td>0.001373</td>\n",
       "      <td>0.000685</td>\n",
       "      <td>0.005531</td>\n",
       "      <td>0.006406</td>\n",
       "      <td>...</td>\n",
       "      <td>0.004186</td>\n",
       "      <td>0.005702</td>\n",
       "      <td>0.006210</td>\n",
       "      <td>0.002715</td>\n",
       "      <td>0.007186</td>\n",
       "      <td>0.004234</td>\n",
       "      <td>0.005086</td>\n",
       "      <td>0.005810</td>\n",
       "      <td>0.002970</td>\n",
       "      <td>0.008533</td>\n",
       "    </tr>\n",
       "    <tr>\n",
       "      <th>1</th>\n",
       "      <td>0.129380</td>\n",
       "      <td>1.0</td>\n",
       "      <td>0.919253</td>\n",
       "      <td>0.213193</td>\n",
       "      <td>0.031170</td>\n",
       "      <td>1.008534</td>\n",
       "      <td>0.008996</td>\n",
       "      <td>0.009513</td>\n",
       "      <td>0.005360</td>\n",
       "      <td>0.001658</td>\n",
       "      <td>...</td>\n",
       "      <td>0.002202</td>\n",
       "      <td>0.001928</td>\n",
       "      <td>0.002996</td>\n",
       "      <td>0.001701</td>\n",
       "      <td>0.002980</td>\n",
       "      <td>0.007479</td>\n",
       "      <td>0.007870</td>\n",
       "      <td>0.003284</td>\n",
       "      <td>0.003169</td>\n",
       "      <td>0.008514</td>\n",
       "    </tr>\n",
       "    <tr>\n",
       "      <th>2</th>\n",
       "      <td>0.075472</td>\n",
       "      <td>1.0</td>\n",
       "      <td>0.852514</td>\n",
       "      <td>0.006877</td>\n",
       "      <td>0.007627</td>\n",
       "      <td>0.819987</td>\n",
       "      <td>0.009290</td>\n",
       "      <td>0.003959</td>\n",
       "      <td>0.007532</td>\n",
       "      <td>0.004571</td>\n",
       "      <td>...</td>\n",
       "      <td>0.002654</td>\n",
       "      <td>0.003470</td>\n",
       "      <td>0.009881</td>\n",
       "      <td>0.007691</td>\n",
       "      <td>0.007383</td>\n",
       "      <td>0.006623</td>\n",
       "      <td>0.000964</td>\n",
       "      <td>0.002202</td>\n",
       "      <td>0.000834</td>\n",
       "      <td>0.003444</td>\n",
       "    </tr>\n",
       "    <tr>\n",
       "      <th>3</th>\n",
       "      <td>0.067385</td>\n",
       "      <td>1.0</td>\n",
       "      <td>0.581547</td>\n",
       "      <td>0.093481</td>\n",
       "      <td>0.172628</td>\n",
       "      <td>1.003796</td>\n",
       "      <td>0.009453</td>\n",
       "      <td>0.003694</td>\n",
       "      <td>0.002178</td>\n",
       "      <td>0.003493</td>\n",
       "      <td>...</td>\n",
       "      <td>0.000060</td>\n",
       "      <td>0.004576</td>\n",
       "      <td>0.001789</td>\n",
       "      <td>0.005140</td>\n",
       "      <td>0.002704</td>\n",
       "      <td>0.006184</td>\n",
       "      <td>0.001899</td>\n",
       "      <td>0.008183</td>\n",
       "      <td>0.005560</td>\n",
       "      <td>0.002983</td>\n",
       "    </tr>\n",
       "    <tr>\n",
       "      <th>4</th>\n",
       "      <td>0.059299</td>\n",
       "      <td>1.0</td>\n",
       "      <td>0.935854</td>\n",
       "      <td>0.003535</td>\n",
       "      <td>0.005764</td>\n",
       "      <td>0.810966</td>\n",
       "      <td>0.004223</td>\n",
       "      <td>0.000970</td>\n",
       "      <td>0.008519</td>\n",
       "      <td>0.000342</td>\n",
       "      <td>...</td>\n",
       "      <td>1.006119</td>\n",
       "      <td>0.008897</td>\n",
       "      <td>0.005045</td>\n",
       "      <td>0.003706</td>\n",
       "      <td>0.002974</td>\n",
       "      <td>0.004162</td>\n",
       "      <td>0.005764</td>\n",
       "      <td>0.008154</td>\n",
       "      <td>0.006944</td>\n",
       "      <td>0.000905</td>\n",
       "    </tr>\n",
       "  </tbody>\n",
       "</table>\n",
       "<p>5 rows × 1501 columns</p>\n",
       "</div>"
      ],
      "text/plain": [
       "   Diff_date_0  num_date     P_2_0    D_39_0     B_1_0     B_2_0     R_1_0  \\\n",
       "0     0.040431       1.0  0.960384  0.002455  0.013683  1.002700  0.001373   \n",
       "1     0.129380       1.0  0.919253  0.213193  0.031170  1.008534  0.008996   \n",
       "2     0.075472       1.0  0.852514  0.006877  0.007627  0.819987  0.009290   \n",
       "3     0.067385       1.0  0.581547  0.093481  0.172628  1.003796  0.009453   \n",
       "4     0.059299       1.0  0.935854  0.003535  0.005764  0.810966  0.004223   \n",
       "\n",
       "     D_41_0     B_3_0    D_44_0  ...   D_130_9   D_131_9   D_133_9    R_28_9  \\\n",
       "0  0.000685  0.005531  0.006406  ...  0.004186  0.005702  0.006210  0.002715   \n",
       "1  0.009513  0.005360  0.001658  ...  0.002202  0.001928  0.002996  0.001701   \n",
       "2  0.003959  0.007532  0.004571  ...  0.002654  0.003470  0.009881  0.007691   \n",
       "3  0.003694  0.002178  0.003493  ...  0.000060  0.004576  0.001789  0.005140   \n",
       "4  0.000970  0.008519  0.000342  ...  1.006119  0.008897  0.005045  0.003706   \n",
       "\n",
       "    D_139_9   D_140_9   D_141_9   D_143_9   D_144_9   D_145_9  \n",
       "0  0.007186  0.004234  0.005086  0.005810  0.002970  0.008533  \n",
       "1  0.002980  0.007479  0.007870  0.003284  0.003169  0.008514  \n",
       "2  0.007383  0.006623  0.000964  0.002202  0.000834  0.003444  \n",
       "3  0.002704  0.006184  0.001899  0.008183  0.005560  0.002983  \n",
       "4  0.002974  0.004162  0.005764  0.008154  0.006944  0.000905  \n",
       "\n",
       "[5 rows x 1501 columns]"
      ]
     },
     "execution_count": 4,
     "metadata": {},
     "output_type": "execute_result"
    }
   ],
   "source": [
    "df_train.head(5)"
   ]
  },
  {
   "cell_type": "code",
   "execution_count": 9,
   "id": "d2c4022b",
   "metadata": {},
   "outputs": [
    {
     "data": {
      "text/plain": [
       "(160000, 5, 301)"
      ]
     },
     "execution_count": 9,
     "metadata": {},
     "output_type": "execute_result"
    }
   ],
   "source": [
    "df_num_date = df_train[\"num_date\"] / 5\n",
    "df_train = df_train.drop(columns =[\"num_date\"])\n",
    "\n",
    "df_train.insert(2,\"num_date1\",df_num_date)\n",
    "df_train.insert(358,\"num_date2\",df_num_date)\n",
    "df_train.insert(716,\"num_date3\",df_num_date)\n",
    "df_train.insert(1078,\"num_date4\",df_num_date)\n",
    "df_train.insert(1432,\"num_date5\",df_num_date)\n",
    "\n",
    "row, col = df_train.shape\n",
    "df_train = np.reshape(df_train.to_numpy(),(-1,5,301))\n",
    "df_train.shape"
   ]
  },
  {
   "cell_type": "markdown",
   "id": "2829cbae",
   "metadata": {},
   "source": [
    "<a id = \"T3\"></a></a><div style=\"text-align: right\"> <a href=#Table_of_content>Back?</a> </div>\n",
    "# Build the model"
   ]
  },
  {
   "cell_type": "code",
   "execution_count": 10,
   "id": "bb0ddf58",
   "metadata": {},
   "outputs": [],
   "source": [
    "import tensorflow as tf\n",
    "from tensorflow.keras.models import Sequential\n",
    "from tensorflow.keras.layers import Activation,Dense\n",
    "from tensorflow.keras.layers import Conv1D,Conv2D, MaxPooling2D, Flatten,Dropout\n",
    "from keras.callbacks import EarlyStopping"
   ]
  },
  {
   "cell_type": "code",
   "execution_count": 11,
   "id": "e3989a2f",
   "metadata": {},
   "outputs": [],
   "source": [
    "def process_x_y_train_valid(df_train, df_label, s):\n",
    "    x_train = df_train[: int(df_train.shape[0] * 0.80)][..., None]\n",
    "    x_valid = df_train[int(df_train.shape[0] * 0.80):][..., None]\n",
    "\n",
    "    y_train = df_label[: int(df_label.shape[0] * 0.80)].to_numpy()\n",
    "    y_train = np.reshape(y_train, (y_train.shape[0],))\n",
    "    y_train = tf.one_hot(y_train, 2)\n",
    "    \n",
    "    y_valid = df_label[int(df_label.shape[0] * 0.80):].to_numpy()\n",
    "    y_valid = np.reshape(y_valid, (y_valid.shape[0],))\n",
    "    y_valid = tf.one_hot(y_valid, 2)\n",
    "    \n",
    "    print(f\"For train dataset {s}: \", x_train.shape, y_train.shape)\n",
    "    print(f\"For validation dataset {s}: \", x_valid.shape, y_valid.shape,\"\\n\")\n",
    "    return x_train, y_train, x_valid, y_valid"
   ]
  },
  {
   "cell_type": "code",
   "execution_count": 12,
   "id": "34d91a64",
   "metadata": {},
   "outputs": [
    {
     "name": "stdout",
     "output_type": "stream",
     "text": [
      "For train dataset 10_13:  (128000, 5, 301, 1) (128000, 2)\n",
      "For validation dataset 10_13:  (32000, 5, 301, 1) (32000, 2) \n",
      "\n"
     ]
    }
   ],
   "source": [
    "x_train1013, y_train1013, x_valid1013, y_valid1013 = process_x_y_train_valid(df_train, df_label, \"10_13\")\n",
    "del df_train"
   ]
  },
  {
   "cell_type": "code",
   "execution_count": 30,
   "id": "fe30e8d5",
   "metadata": {},
   "outputs": [],
   "source": [
    "def create_ANN(input_data):\n",
    "    \n",
    "    model = Sequential()\n",
    "    model.add(Conv2D(64, (2,2), activation = 'relu', input_shape = input_data.shape[1:] ))\n",
    "    model.add(MaxPooling2D())\n",
    "    model.add(Conv2D(64, (2,2), activation = 'relu'))\n",
    "#     model.add(MaxPooling2D())\n",
    "    model.add(Flatten())\n",
    "    model.add(Dense(64, activation = 'relu'))\n",
    "    model.add(Dropout(0.5))\n",
    "    model.add(Dense(32, activation = 'relu'))    \n",
    "    model.add(Dropout(0.5))\n",
    "    model.add(Dense(2, activation = 'softmax'))\n",
    "    \n",
    "    return model"
   ]
  },
  {
   "cell_type": "markdown",
   "id": "b986e52e",
   "metadata": {},
   "source": [
    "Way to write the model to json file: https://machinelearningmastery.com/save-load-keras-deep-learning-models/   "
   ]
  },
  {
   "cell_type": "code",
   "execution_count": 31,
   "id": "8ef2a8b5",
   "metadata": {
    "scrolled": true
   },
   "outputs": [
    {
     "name": "stdout",
     "output_type": "stream",
     "text": [
      "Model: \"sequential_6\"\n",
      "_________________________________________________________________\n",
      " Layer (type)                Output Shape              Param #   \n",
      "=================================================================\n",
      " conv2d_12 (Conv2D)          (None, 4, 300, 64)        320       \n",
      "                                                                 \n",
      " max_pooling2d_6 (MaxPooling  (None, 2, 150, 64)       0         \n",
      " 2D)                                                             \n",
      "                                                                 \n",
      " conv2d_13 (Conv2D)          (None, 1, 149, 64)        16448     \n",
      "                                                                 \n",
      " flatten_4 (Flatten)         (None, 9536)              0         \n",
      "                                                                 \n",
      " dense_12 (Dense)            (None, 64)                610368    \n",
      "                                                                 \n",
      " dropout (Dropout)           (None, 64)                0         \n",
      "                                                                 \n",
      " dense_13 (Dense)            (None, 32)                2080      \n",
      "                                                                 \n",
      " dropout_1 (Dropout)         (None, 32)                0         \n",
      "                                                                 \n",
      " dense_14 (Dense)            (None, 2)                 66        \n",
      "                                                                 \n",
      "=================================================================\n",
      "Total params: 629,282\n",
      "Trainable params: 629,282\n",
      "Non-trainable params: 0\n",
      "_________________________________________________________________\n",
      "None\n"
     ]
    }
   ],
   "source": [
    "ANN_10_13 = create_ANN(x_train1013)\n",
    "print(ANN_10_13.summary())"
   ]
  },
  {
   "cell_type": "code",
   "execution_count": 32,
   "id": "b34e303f",
   "metadata": {
    "scrolled": true
   },
   "outputs": [
    {
     "name": "stdout",
     "output_type": "stream",
     "text": [
      "Epoch 1/50\n",
      "2000/2000 [==============================] - 136s 68ms/step - loss: 0.2721 - accuracy: 0.8914 - val_loss: 0.2318 - val_accuracy: 0.8993\n",
      "Epoch 2/50\n",
      "2000/2000 [==============================] - 134s 67ms/step - loss: 0.2502 - accuracy: 0.8999 - val_loss: 0.2410 - val_accuracy: 0.8994\n",
      "Epoch 3/50\n",
      "2000/2000 [==============================] - 136s 68ms/step - loss: 0.2473 - accuracy: 0.9007 - val_loss: 0.2432 - val_accuracy: 0.8978\n",
      "Epoch 4/50\n",
      "2000/2000 [==============================] - 136s 68ms/step - loss: 0.2504 - accuracy: 0.9011 - val_loss: 0.2649 - val_accuracy: 0.8992\n",
      "Epoch 5/50\n",
      "2000/2000 [==============================] - 137s 68ms/step - loss: 0.2439 - accuracy: 0.9015 - val_loss: 0.2436 - val_accuracy: 0.9003\n",
      "Epoch 6/50\n",
      "2000/2000 [==============================] - 138s 69ms/step - loss: 0.2431 - accuracy: 0.9012 - val_loss: 0.2400 - val_accuracy: 0.8980\n",
      "Epoch 7/50\n",
      "2000/2000 [==============================] - 137s 68ms/step - loss: 0.2453 - accuracy: 0.9019 - val_loss: 0.2442 - val_accuracy: 0.8988\n",
      "Epoch 8/50\n",
      "2000/2000 [==============================] - 136s 68ms/step - loss: 0.2431 - accuracy: 0.9024 - val_loss: 0.2434 - val_accuracy: 0.8994\n"
     ]
    }
   ],
   "source": [
    "callbacks = [EarlyStopping(monitor = 'val_accuracy', patience = 3, min_delta = 0, mode = 'auto')]\n",
    "ANN_10_13.compile(loss = tf.keras.losses.BinaryCrossentropy(), optimizer = tf.keras.optimizers.RMSprop(learning_rate=0.001), metrics = ['accuracy'])\n",
    "\n",
    "# Try with callback\n",
    "history = ANN_10_13.fit(x_train1013, y_train1013, batch_size = 64, epochs = 50, \n",
    "                        validation_data = (x_valid1013, y_valid1013), verbose=1, callbacks = callbacks)"
   ]
  },
  {
   "cell_type": "code",
   "execution_count": 33,
   "id": "6f67441b",
   "metadata": {},
   "outputs": [],
   "source": [
    "ANN_10_13.save(\"ANN1013_2.h5\")"
   ]
  },
  {
   "cell_type": "code",
   "execution_count": 34,
   "id": "d238df7a",
   "metadata": {},
   "outputs": [
    {
     "data": {
      "text/plain": [
       "<matplotlib.legend.Legend at 0x185fd5b79d0>"
      ]
     },
     "execution_count": 34,
     "metadata": {},
     "output_type": "execute_result"
    },
    {
     "data": {
      "image/png": "[encoded data removed]",
      "text/plain": [
       "<Figure size 432x288 with 1 Axes>"
      ]
     },
     "metadata": {
      "needs_background": "light"
     },
     "output_type": "display_data"
    }
   ],
   "source": [
    "import matplotlib.pyplot as plt\n",
    "plt.plot(range(1,len(history.history['loss']) + 1), history.history['accuracy'],label=\"loss\", color = 'g')\n",
    "plt.plot(range(1,len(history.history['loss']) + 1), history.history['val_accuracy'],label=\"val_loss\", color = 'b')\n",
    "plt.xlabel('epoch', fontsize = 12)\n",
    "plt.legend()"
   ]
  },
  {
   "cell_type": "code",
   "execution_count": 35,
   "id": "f6b4a25b",
   "metadata": {},
   "outputs": [
    {
     "name": "stdout",
     "output_type": "stream",
     "text": [
      "For model ANN1013_1.h5\n",
      "F1-score: 0.7880625168418216\n",
      "Accuracy: 0.9016875\n",
      "\n",
      "For model ANN1013_2.h5\n",
      "F1-score: 0.7986740884357996\n",
      "Accuracy: 0.89940625\n",
      "\n"
     ]
    }
   ],
   "source": [
    "from sklearn.metrics import f1_score, accuracy_score\n",
    "\n",
    "def get_score(filename):\n",
    "    ANN_model = tf.keras.models.load_model(filename)\n",
    "    result1 =  ANN_model.predict(x_valid1013)\n",
    "    print(\"For model\",filename)\n",
    "    print(\"F1-score:\",f1_score(np.argmax(result1,axis=1), np.argmax(y_valid1013,axis=1)))\n",
    "    print(\"Accuracy:\",accuracy_score(np.argmax(result1,axis=1), np.argmax(y_valid1013,axis=1)))\n",
    "    print(\"\")\n",
    "\n",
    "get_score(\"ANN1013_1.h5\")\n",
    "get_score(\"ANN1013_2.h5\")"
   ]
  }
 ],
 "metadata": {
  "kernelspec": {
   "display_name": "Python 3 (ipykernel)",
   "language": "python",
   "name": "python3"
  },
  "language_info": {
   "codemirror_mode": {
    "name": "ipython",
    "version": 3
   },
   "file_extension": ".py",
   "mimetype": "text/x-python",
   "name": "python",
   "nbconvert_exporter": "python",
   "pygments_lexer": "ipython3",
   "version": "3.9.7"
  }
 },
 "nbformat": 4,
 "nbformat_minor": 5
}
