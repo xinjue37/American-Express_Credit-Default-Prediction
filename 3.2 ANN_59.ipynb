{
 "cells": [
  {
   "cell_type": "markdown",
   "id": "d6aba162",
   "metadata": {},
   "source": [
    "<a id = \"Table_of_content\"></a>\n",
    "# Table of content\n",
    "### 1. [Data Cleaning](#T1)\n",
    "### 2. [Build the model](#T3)"
   ]
  },
  {
   "cell_type": "markdown",
   "id": "0a1d417b",
   "metadata": {},
   "source": [
    "# Objective\n",
    "* predict the probability that a customer does not pay back their credit card balance"
   ]
  },
  {
   "cell_type": "markdown",
   "id": "edb42d63",
   "metadata": {},
   "source": [
    "<a id = \"T1\"></a></a><div style=\"text-align: right\"> <a href=#Table_of_content>Back?</a> </div>\n",
    "# Data Cleaning"
   ]
  },
  {
   "cell_type": "code",
   "execution_count": 1,
   "id": "95667511",
   "metadata": {},
   "outputs": [],
   "source": [
    "import numpy as np\n",
    "import pandas as pd"
   ]
  },
  {
   "cell_type": "code",
   "execution_count": 2,
   "id": "fc75fcb6",
   "metadata": {},
   "outputs": [],
   "source": [
    "df_train = pd.read_csv('train_59.csv')  \n",
    "df_label = pd.read_csv(\"label_59.csv\")"
   ]
  },
  {
   "cell_type": "code",
   "execution_count": 3,
   "id": "1cb84bee",
   "metadata": {},
   "outputs": [
    {
     "name": "stdout",
     "output_type": "stream",
     "text": [
      "<class 'pandas.core.frame.DataFrame'>\n",
      "RangeIndex: 27904 entries, 0 to 27903\n",
      "Columns: 751 entries, Diff_date_0 to D_145_4\n",
      "dtypes: float64(751)\n",
      "memory usage: 159.9 MB\n"
     ]
    }
   ],
   "source": [
    "df_train.info()"
   ]
  },
  {
   "cell_type": "code",
   "execution_count": 4,
   "id": "c604c7cf",
   "metadata": {
    "scrolled": true
   },
   "outputs": [
    {
     "data": {
      "text/html": [
       "<div>\n",
       "<style scoped>\n",
       "    .dataframe tbody tr th:only-of-type {\n",
       "        vertical-align: middle;\n",
       "    }\n",
       "\n",
       "    .dataframe tbody tr th {\n",
       "        vertical-align: top;\n",
       "    }\n",
       "\n",
       "    .dataframe thead th {\n",
       "        text-align: right;\n",
       "    }\n",
       "</style>\n",
       "<table border=\"1\" class=\"dataframe\">\n",
       "  <thead>\n",
       "    <tr style=\"text-align: right;\">\n",
       "      <th></th>\n",
       "      <th>Diff_date_0</th>\n",
       "      <th>num_date</th>\n",
       "      <th>P_2_0</th>\n",
       "      <th>D_39_0</th>\n",
       "      <th>B_1_0</th>\n",
       "      <th>B_2_0</th>\n",
       "      <th>R_1_0</th>\n",
       "      <th>D_41_0</th>\n",
       "      <th>B_3_0</th>\n",
       "      <th>D_44_0</th>\n",
       "      <th>...</th>\n",
       "      <th>D_130_4</th>\n",
       "      <th>D_131_4</th>\n",
       "      <th>D_133_4</th>\n",
       "      <th>R_28_4</th>\n",
       "      <th>D_139_4</th>\n",
       "      <th>D_140_4</th>\n",
       "      <th>D_141_4</th>\n",
       "      <th>D_143_4</th>\n",
       "      <th>D_144_4</th>\n",
       "      <th>D_145_4</th>\n",
       "    </tr>\n",
       "  </thead>\n",
       "  <tbody>\n",
       "    <tr>\n",
       "      <th>0</th>\n",
       "      <td>0.021563</td>\n",
       "      <td>0.692308</td>\n",
       "      <td>0.209219</td>\n",
       "      <td>0.682804</td>\n",
       "      <td>0.075066</td>\n",
       "      <td>0.116105</td>\n",
       "      <td>0.009367</td>\n",
       "      <td>0.212435</td>\n",
       "      <td>0.099941</td>\n",
       "      <td>0.382168</td>\n",
       "      <td>...</td>\n",
       "      <td>0.000506</td>\n",
       "      <td>0.005313</td>\n",
       "      <td>0.009390</td>\n",
       "      <td>0.003240</td>\n",
       "      <td>1.009989</td>\n",
       "      <td>0.001966</td>\n",
       "      <td>0.875536</td>\n",
       "      <td>1.008998</td>\n",
       "      <td>0.009901</td>\n",
       "      <td>1.093480</td>\n",
       "    </tr>\n",
       "    <tr>\n",
       "      <th>1</th>\n",
       "      <td>0.102426</td>\n",
       "      <td>0.615385</td>\n",
       "      <td>0.670203</td>\n",
       "      <td>0.238965</td>\n",
       "      <td>0.066434</td>\n",
       "      <td>0.275513</td>\n",
       "      <td>0.503648</td>\n",
       "      <td>0.009750</td>\n",
       "      <td>0.030044</td>\n",
       "      <td>0.134424</td>\n",
       "      <td>...</td>\n",
       "      <td>0.000265</td>\n",
       "      <td>0.001805</td>\n",
       "      <td>0.003882</td>\n",
       "      <td>0.003875</td>\n",
       "      <td>0.008639</td>\n",
       "      <td>0.007512</td>\n",
       "      <td>0.002536</td>\n",
       "      <td>0.008481</td>\n",
       "      <td>0.000773</td>\n",
       "      <td>0.003672</td>\n",
       "    </tr>\n",
       "    <tr>\n",
       "      <th>2</th>\n",
       "      <td>0.113208</td>\n",
       "      <td>0.615385</td>\n",
       "      <td>0.581898</td>\n",
       "      <td>0.004729</td>\n",
       "      <td>0.001673</td>\n",
       "      <td>0.819535</td>\n",
       "      <td>0.002745</td>\n",
       "      <td>0.007361</td>\n",
       "      <td>0.006951</td>\n",
       "      <td>0.126895</td>\n",
       "      <td>...</td>\n",
       "      <td>1.008012</td>\n",
       "      <td>0.987666</td>\n",
       "      <td>0.302090</td>\n",
       "      <td>0.003805</td>\n",
       "      <td>0.005230</td>\n",
       "      <td>0.008198</td>\n",
       "      <td>0.004536</td>\n",
       "      <td>0.004462</td>\n",
       "      <td>0.008460</td>\n",
       "      <td>0.000035</td>\n",
       "    </tr>\n",
       "    <tr>\n",
       "      <th>3</th>\n",
       "      <td>0.043127</td>\n",
       "      <td>0.538462</td>\n",
       "      <td>0.884160</td>\n",
       "      <td>0.009115</td>\n",
       "      <td>0.045651</td>\n",
       "      <td>0.419922</td>\n",
       "      <td>0.008867</td>\n",
       "      <td>0.007641</td>\n",
       "      <td>0.044311</td>\n",
       "      <td>0.008959</td>\n",
       "      <td>...</td>\n",
       "      <td>0.008512</td>\n",
       "      <td>0.001276</td>\n",
       "      <td>0.006942</td>\n",
       "      <td>0.001511</td>\n",
       "      <td>1.003795</td>\n",
       "      <td>0.005110</td>\n",
       "      <td>0.925654</td>\n",
       "      <td>1.007028</td>\n",
       "      <td>0.094978</td>\n",
       "      <td>0.546560</td>\n",
       "    </tr>\n",
       "    <tr>\n",
       "      <th>4</th>\n",
       "      <td>0.072776</td>\n",
       "      <td>0.538462</td>\n",
       "      <td>-0.059913</td>\n",
       "      <td>0.535663</td>\n",
       "      <td>0.108700</td>\n",
       "      <td>0.003085</td>\n",
       "      <td>0.256299</td>\n",
       "      <td>0.328761</td>\n",
       "      <td>0.009912</td>\n",
       "      <td>0.129758</td>\n",
       "      <td>...</td>\n",
       "      <td>0.001403</td>\n",
       "      <td>0.008408</td>\n",
       "      <td>0.002895</td>\n",
       "      <td>0.004831</td>\n",
       "      <td>0.007606</td>\n",
       "      <td>0.004791</td>\n",
       "      <td>0.004766</td>\n",
       "      <td>0.003089</td>\n",
       "      <td>0.005494</td>\n",
       "      <td>0.000370</td>\n",
       "    </tr>\n",
       "  </tbody>\n",
       "</table>\n",
       "<p>5 rows × 751 columns</p>\n",
       "</div>"
      ],
      "text/plain": [
       "   Diff_date_0  num_date     P_2_0    D_39_0     B_1_0     B_2_0     R_1_0  \\\n",
       "0     0.021563  0.692308  0.209219  0.682804  0.075066  0.116105  0.009367   \n",
       "1     0.102426  0.615385  0.670203  0.238965  0.066434  0.275513  0.503648   \n",
       "2     0.113208  0.615385  0.581898  0.004729  0.001673  0.819535  0.002745   \n",
       "3     0.043127  0.538462  0.884160  0.009115  0.045651  0.419922  0.008867   \n",
       "4     0.072776  0.538462 -0.059913  0.535663  0.108700  0.003085  0.256299   \n",
       "\n",
       "     D_41_0     B_3_0    D_44_0  ...   D_130_4   D_131_4   D_133_4    R_28_4  \\\n",
       "0  0.212435  0.099941  0.382168  ...  0.000506  0.005313  0.009390  0.003240   \n",
       "1  0.009750  0.030044  0.134424  ...  0.000265  0.001805  0.003882  0.003875   \n",
       "2  0.007361  0.006951  0.126895  ...  1.008012  0.987666  0.302090  0.003805   \n",
       "3  0.007641  0.044311  0.008959  ...  0.008512  0.001276  0.006942  0.001511   \n",
       "4  0.328761  0.009912  0.129758  ...  0.001403  0.008408  0.002895  0.004831   \n",
       "\n",
       "    D_139_4   D_140_4   D_141_4   D_143_4   D_144_4   D_145_4  \n",
       "0  1.009989  0.001966  0.875536  1.008998  0.009901  1.093480  \n",
       "1  0.008639  0.007512  0.002536  0.008481  0.000773  0.003672  \n",
       "2  0.005230  0.008198  0.004536  0.004462  0.008460  0.000035  \n",
       "3  1.003795  0.005110  0.925654  1.007028  0.094978  0.546560  \n",
       "4  0.007606  0.004791  0.004766  0.003089  0.005494  0.000370  \n",
       "\n",
       "[5 rows x 751 columns]"
      ]
     },
     "execution_count": 4,
     "metadata": {},
     "output_type": "execute_result"
    }
   ],
   "source": [
    "df_train.head(5)"
   ]
  },
  {
   "cell_type": "code",
   "execution_count": 5,
   "id": "d2c4022b",
   "metadata": {},
   "outputs": [
    {
     "data": {
      "text/plain": [
       "(27904, 5, 151)"
      ]
     },
     "execution_count": 5,
     "metadata": {},
     "output_type": "execute_result"
    }
   ],
   "source": [
    "df_num_date = df_train[\"num_date\"] / 5\n",
    "df_train = df_train.drop(columns =[\"num_date\"])\n",
    "\n",
    "df_train.insert(2,\"num_date1\",df_num_date)\n",
    "df_train.insert(179,\"num_date2\",df_num_date)\n",
    "df_train.insert(358,\"num_date3\",df_num_date)\n",
    "df_train.insert(539,\"num_date4\",df_num_date)\n",
    "df_train.insert(716,\"num_date5\",df_num_date)\n",
    "\n",
    "row, col = df_train.shape\n",
    "df_train = np.reshape(df_train.to_numpy(),(-1,5,151))\n",
    "df_train.shape"
   ]
  },
  {
   "cell_type": "markdown",
   "id": "2829cbae",
   "metadata": {},
   "source": [
    "<a id = \"T3\"></a></a><div style=\"text-align: right\"> <a href=#Table_of_content>Back?</a> </div>\n",
    "# Build the model"
   ]
  },
  {
   "cell_type": "code",
   "execution_count": 6,
   "id": "bb0ddf58",
   "metadata": {},
   "outputs": [],
   "source": [
    "import tensorflow as tf\n",
    "from tensorflow.keras.models import Sequential\n",
    "from tensorflow.keras.layers import Activation,Dense\n",
    "from tensorflow.keras.layers import Conv1D,Conv2D, MaxPooling2D, Flatten,Dropout\n",
    "from keras.callbacks import EarlyStopping"
   ]
  },
  {
   "cell_type": "code",
   "execution_count": 7,
   "id": "e3989a2f",
   "metadata": {},
   "outputs": [],
   "source": [
    "def process_x_y_train_valid(df_train, df_label, s):\n",
    "    x_train = df_train[: int(df_train.shape[0] * 0.80)][..., None]\n",
    "    x_valid = df_train[int(df_train.shape[0] * 0.80):][..., None]\n",
    "\n",
    "    y_train = df_label[: int(df_label.shape[0] * 0.80)].to_numpy()\n",
    "    y_train = np.reshape(y_train, (y_train.shape[0],))\n",
    "    y_train = tf.one_hot(y_train, 2)\n",
    "    \n",
    "    y_valid = df_label[int(df_label.shape[0] * 0.80):].to_numpy()\n",
    "    y_valid = np.reshape(y_valid, (y_valid.shape[0],))\n",
    "    y_valid = tf.one_hot(y_valid, 2)\n",
    "    \n",
    "    print(f\"For train dataset {s}: \", x_train.shape, y_train.shape)\n",
    "    print(f\"For validation dataset {s}: \", x_valid.shape, y_valid.shape,\"\\n\")\n",
    "    return x_train, y_train, x_valid, y_valid"
   ]
  },
  {
   "cell_type": "code",
   "execution_count": 8,
   "id": "34d91a64",
   "metadata": {},
   "outputs": [
    {
     "name": "stdout",
     "output_type": "stream",
     "text": [
      "For train dataset 5_9:  (22323, 5, 151, 1) (22323, 2)\n",
      "For validation dataset 5_9:  (5581, 5, 151, 1) (5581, 2) \n",
      "\n"
     ]
    }
   ],
   "source": [
    "x_train59, y_train59, x_valid59, y_valid59 = process_x_y_train_valid(df_train, df_label, \"5_9\")"
   ]
  },
  {
   "cell_type": "code",
   "execution_count": 1,
   "id": "fe30e8d5",
   "metadata": {},
   "outputs": [],
   "source": [
    "def create_ANN(input_data):\n",
    "    \n",
    "    model = Sequential()\n",
    "    model.add(Conv2D(128, (2,2), activation = 'relu', input_shape = input_data.shape[1:] ))\n",
    "    model.add(MaxPooling2D())\n",
    "    model.add(Conv2D(128, (2,2), activation = 'relu'))\n",
    "#     model.add(MaxPooling2D())\n",
    "    model.add(Flatten())\n",
    "    model.add(Dense(64, activation = 'relu'))\n",
    "    model.add(Dropout(0.5))\n",
    "    model.add(Dense(32, activation = 'relu'))    \n",
    "    model.add(Dropout(0.5))\n",
    "    model.add(Dense(2, activation = 'softmax'))\n",
    "    \n",
    "    return model"
   ]
  },
  {
   "cell_type": "markdown",
   "id": "b986e52e",
   "metadata": {},
   "source": [
    "Way to write the model to json file: https://machinelearningmastery.com/save-load-keras-deep-learning-models/   "
   ]
  },
  {
   "cell_type": "code",
   "execution_count": 10,
   "id": "8ef2a8b5",
   "metadata": {
    "scrolled": true
   },
   "outputs": [
    {
     "name": "stdout",
     "output_type": "stream",
     "text": [
      "Model: \"sequential\"\n",
      "_________________________________________________________________\n",
      " Layer (type)                Output Shape              Param #   \n",
      "=================================================================\n",
      " conv2d (Conv2D)             (None, 4, 150, 128)       640       \n",
      "                                                                 \n",
      " max_pooling2d (MaxPooling2D  (None, 2, 75, 128)       0         \n",
      " )                                                               \n",
      "                                                                 \n",
      " conv2d_1 (Conv2D)           (None, 1, 74, 128)        65664     \n",
      "                                                                 \n",
      " flatten (Flatten)           (None, 9472)              0         \n",
      "                                                                 \n",
      " dense (Dense)               (None, 64)                606272    \n",
      "                                                                 \n",
      " dropout (Dropout)           (None, 64)                0         \n",
      "                                                                 \n",
      " dense_1 (Dense)             (None, 32)                2080      \n",
      "                                                                 \n",
      " dropout_1 (Dropout)         (None, 32)                0         \n",
      "                                                                 \n",
      " dense_2 (Dense)             (None, 2)                 66        \n",
      "                                                                 \n",
      "=================================================================\n",
      "Total params: 674,722\n",
      "Trainable params: 674,722\n",
      "Non-trainable params: 0\n",
      "_________________________________________________________________\n",
      "None\n"
     ]
    }
   ],
   "source": [
    "ANN_5_9 = create_ANN(x_train59)\n",
    "print(ANN_5_9.summary())"
   ]
  },
  {
   "cell_type": "code",
   "execution_count": 11,
   "id": "b34e303f",
   "metadata": {
    "scrolled": true
   },
   "outputs": [
    {
     "name": "stdout",
     "output_type": "stream",
     "text": [
      "Epoch 1/50\n",
      "349/349 [==============================] - 24s 66ms/step - loss: 0.4806 - accuracy: 0.7834 - val_loss: 0.4286 - val_accuracy: 0.7984\n",
      "Epoch 2/50\n",
      "349/349 [==============================] - 23s 67ms/step - loss: 0.4143 - accuracy: 0.8185 - val_loss: 0.3953 - val_accuracy: 0.8183\n",
      "Epoch 3/50\n",
      "349/349 [==============================] - 23s 65ms/step - loss: 0.4022 - accuracy: 0.8242 - val_loss: 0.3979 - val_accuracy: 0.8291\n",
      "Epoch 4/50\n",
      "349/349 [==============================] - 23s 65ms/step - loss: 0.3953 - accuracy: 0.8281 - val_loss: 0.3930 - val_accuracy: 0.8298\n",
      "Epoch 5/50\n",
      "349/349 [==============================] - 23s 66ms/step - loss: 0.3922 - accuracy: 0.8298 - val_loss: 0.4083 - val_accuracy: 0.8255\n",
      "Epoch 6/50\n",
      "349/349 [==============================] - 23s 66ms/step - loss: 0.3885 - accuracy: 0.8321 - val_loss: 0.3926 - val_accuracy: 0.8300\n",
      "Epoch 7/50\n",
      "349/349 [==============================] - 23s 66ms/step - loss: 0.3849 - accuracy: 0.8316 - val_loss: 0.3808 - val_accuracy: 0.8221\n",
      "Epoch 8/50\n",
      "349/349 [==============================] - 23s 66ms/step - loss: 0.3784 - accuracy: 0.8344 - val_loss: 0.3769 - val_accuracy: 0.8276\n"
     ]
    }
   ],
   "source": [
    "callbacks = [EarlyStopping(monitor = 'val_accuracy', patience = 2, min_delta = 0, mode = 'auto')]\n",
    "ANN_5_9.compile(loss = tf.keras.losses.BinaryCrossentropy(), optimizer = tf.keras.optimizers.RMSprop(learning_rate=0.001), metrics = ['accuracy'])\n",
    "\n",
    "# Try without callback\n",
    "history = ANN_5_9.fit(x_train59, y_train59, batch_size = 64, epochs = 50, validation_data = (x_valid59, y_valid59), verbose=1, callbacks = callbacks)"
   ]
  },
  {
   "cell_type": "code",
   "execution_count": 13,
   "id": "6f67441b",
   "metadata": {},
   "outputs": [],
   "source": [
    "ANN_5_9.save(\"ANN59_2.h5\")"
   ]
  },
  {
   "cell_type": "code",
   "execution_count": 14,
   "id": "d238df7a",
   "metadata": {},
   "outputs": [
    {
     "data": {
      "text/plain": [
       "<matplotlib.legend.Legend at 0x26a4c088e80>"
      ]
     },
     "execution_count": 14,
     "metadata": {},
     "output_type": "execute_result"
    },
    {
     "data": {
      "image/png": "[encoded data removed]",
      "text/plain": [
       "<Figure size 432x288 with 1 Axes>"
      ]
     },
     "metadata": {
      "needs_background": "light"
     },
     "output_type": "display_data"
    }
   ],
   "source": [
    "import matplotlib.pyplot as plt\n",
    "plt.plot(range(1,len(history.history['loss']) + 1), history.history['accuracy'],label=\"loss\", color = 'g')\n",
    "plt.plot(range(1,len(history.history['loss']) + 1), history.history['val_accuracy'],label=\"val_loss\", color = 'b')\n",
    "plt.xlabel('epoch', fontsize = 12)\n",
    "plt.legend()"
   ]
  },
  {
   "cell_type": "code",
   "execution_count": 22,
   "id": "f6b4a25b",
   "metadata": {},
   "outputs": [
    {
     "name": "stdout",
     "output_type": "stream",
     "text": [
      "For model ANN59_1.h5\n",
      "F1-score: 0.794392523364486\n",
      "Accuracy: 0.8265543809353163\n",
      "\n",
      "For model ANN59_2.h5\n",
      "F1-score: 0.803030303030303\n",
      "Accuracy: 0.8276294570865437\n",
      "\n"
     ]
    }
   ],
   "source": [
    "from sklearn.metrics import f1_score, accuracy_score\n",
    "\n",
    "def get_score(filename):\n",
    "    ANN_model = tf.keras.models.load_model(filename)\n",
    "    result1 =  ANN_model.predict(x_valid59)\n",
    "    print(\"For model\",filename)\n",
    "    print(\"F1-score:\",f1_score(np.argmax(result1,axis=1), np.argmax(y_valid59,axis=1)))\n",
    "    print(\"Accuracy:\",accuracy_score(np.argmax(result1,axis=1), np.argmax(y_valid59,axis=1)))\n",
    "    print(\"\")\n",
    "\n",
    "get_score(\"ANN59_1.h5\")\n",
    "get_score(\"ANN59_2.h5\")"
   ]
  }
 ],
 "metadata": {
  "kernelspec": {
   "display_name": "Python 3 (ipykernel)",
   "language": "python",
   "name": "python3"
  },
  "language_info": {
   "codemirror_mode": {
    "name": "ipython",
    "version": 3
   },
   "file_extension": ".py",
   "mimetype": "text/x-python",
   "name": "python",
   "nbconvert_exporter": "python",
   "pygments_lexer": "ipython3",
   "version": "3.9.7"
  }
 },
 "nbformat": 4,
 "nbformat_minor": 5
}
