{
 "cells": [
  {
   "cell_type": "markdown",
   "id": "88f042d2",
   "metadata": {},
   "source": [
    "### After all the data is processed, we concatenate the dataset"
   ]
  },
  {
   "cell_type": "code",
   "execution_count": 1,
   "id": "394a29ab",
   "metadata": {},
   "outputs": [],
   "source": [
    "import numpy as np\n",
    "import pandas as pd"
   ]
  },
  {
   "cell_type": "code",
   "execution_count": 2,
   "id": "fb70e7b7",
   "metadata": {},
   "outputs": [],
   "source": [
    "# For dataset 1013, we convert it from float64 to float32 to reduce the memory used\n",
    "\n",
    "import pandas as pd\n",
    "def conv_data(filename):\n",
    "    df = pd.read_csv(filename)\n",
    "    df.info()\n",
    "    df = df.astype('float32')\n",
    "    df.to_csv(filename,index=False)\n",
    "    df.info()\n",
    "\n",
    "# Convert 1 by 1 (from 0 - 5)\n",
    "conv_data(\"train_1013_3.csv\")"
   ]
  },
  {
   "cell_type": "code",
   "execution_count": 3,
   "id": "e5ee0117",
   "metadata": {},
   "outputs": [],
   "source": [
    "def conc(str1):\n",
    "    df1 = pd.read_csv(str1 + \"_0\" + \".csv\")\n",
    "    df2 = pd.read_csv(str1 + \"_1\" + \".csv\")\n",
    "    df3 = pd.read_csv(str1 + \"_2\" + \".csv\")\n",
    "    df4 = pd.read_csv(str1 + \"_3\" + \".csv\")\n",
    "    df5 = pd.read_csv(str1 + \"_4\" + \".csv\")\n",
    "    df6 = pd.read_csv(str1 + \"_5\" + \".csv\")\n",
    "    df_con = pd.concat([df1, df2, df3, df4, df5, df6], axis=0)\n",
    "    print(f\"After concatenate {str1} have shape\",df_con.shape)\n",
    "    print(\"Num of duplicate row =\",df_con.duplicated().sum())\n",
    "    df_con.to_csv(str1 + \".csv\",index=False)\n",
    "    \n",
    "conc(\"train_59\")\n",
    "conc(\"label_59\")\n",
    "conc(\"train_14\")\n",
    "conc(\"label_14\")\n",
    "\n",
    "# For this one, we only concatenate df1 to df4 as load all data from 1 to 6 will crash the compute\n",
    "# conc(\"train_1013\")\n",
    "# conc(\"label_1013\")"
   ]
  },
  {
   "cell_type": "code",
   "execution_count": 4,
   "id": "21389995",
   "metadata": {},
   "outputs": [],
   "source": [
    "df_test = pd.read_csv(\"label_14.csv\")\n",
    "print(df_test.shape)\n",
    "df_test.head(5)"
   ]
  }
 ],
 "metadata": {
  "kernelspec": {
   "display_name": "Python 3 (ipykernel)",
   "language": "python",
   "name": "python3"
  },
  "language_info": {
   "codemirror_mode": {
    "name": "ipython",
    "version": 3
   },
   "file_extension": ".py",
   "mimetype": "text/x-python",
   "name": "python",
   "nbconvert_exporter": "python",
   "pygments_lexer": "ipython3",
   "version": "3.11.5"
  }
 },
 "nbformat": 4,
 "nbformat_minor": 5
}
