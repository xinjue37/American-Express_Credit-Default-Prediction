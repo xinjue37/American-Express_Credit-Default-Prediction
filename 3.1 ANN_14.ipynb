{
 "cells": [
  {
   "cell_type": "markdown",
   "id": "d6aba162",
   "metadata": {},
   "source": [
    "<a id = \"Table_of_content\"></a>\n",
    "# Table of content\n",
    "### 1. [Data Cleaning](#T1)\n",
    "### 2. [Build the model](#T3)"
   ]
  },
  {
   "cell_type": "markdown",
   "id": "0a1d417b",
   "metadata": {},
   "source": [
    "# Objective\n",
    "* predict the probability that a customer does not pay back their credit card balance"
   ]
  },
  {
   "cell_type": "markdown",
   "id": "edb42d63",
   "metadata": {},
   "source": [
    "<a id = \"T1\"></a></a><div style=\"text-align: right\"> <a href=#Table_of_content>Back?</a> </div>\n",
    "# Data Cleaning"
   ]
  },
  {
   "cell_type": "code",
   "execution_count": 31,
   "id": "95667511",
   "metadata": {},
   "outputs": [],
   "source": [
    "import numpy as np\n",
    "import pandas as pd"
   ]
  },
  {
   "cell_type": "code",
   "execution_count": 32,
   "id": "fc75fcb6",
   "metadata": {},
   "outputs": [],
   "source": [
    "df_train = pd.read_csv('train_14.csv')  \n",
    "df_label = pd.read_csv(\"label_14.csv\")"
   ]
  },
  {
   "cell_type": "code",
   "execution_count": 33,
   "id": "1cb84bee",
   "metadata": {},
   "outputs": [
    {
     "name": "stdout",
     "output_type": "stream",
     "text": [
      "<class 'pandas.core.frame.DataFrame'>\n",
      "RangeIndex: 21671 entries, 0 to 21670\n",
      "Columns: 151 entries, Diff_date_0 to D_145_0\n",
      "dtypes: float64(151)\n",
      "memory usage: 25.0 MB\n"
     ]
    }
   ],
   "source": [
    "df_train.info()"
   ]
  },
  {
   "cell_type": "code",
   "execution_count": 34,
   "id": "1da3e800",
   "metadata": {
    "scrolled": true
   },
   "outputs": [
    {
     "data": {
      "text/html": [
       "<div>\n",
       "<style scoped>\n",
       "    .dataframe tbody tr th:only-of-type {\n",
       "        vertical-align: middle;\n",
       "    }\n",
       "\n",
       "    .dataframe tbody tr th {\n",
       "        vertical-align: top;\n",
       "    }\n",
       "\n",
       "    .dataframe thead th {\n",
       "        text-align: right;\n",
       "    }\n",
       "</style>\n",
       "<table border=\"1\" class=\"dataframe\">\n",
       "  <thead>\n",
       "    <tr style=\"text-align: right;\">\n",
       "      <th></th>\n",
       "      <th>Diff_date_0</th>\n",
       "      <th>num_date</th>\n",
       "      <th>P_2_0</th>\n",
       "      <th>D_39_0</th>\n",
       "      <th>B_1_0</th>\n",
       "      <th>B_2_0</th>\n",
       "      <th>R_1_0</th>\n",
       "      <th>D_41_0</th>\n",
       "      <th>B_3_0</th>\n",
       "      <th>D_44_0</th>\n",
       "      <th>...</th>\n",
       "      <th>D_130_0</th>\n",
       "      <th>D_131_0</th>\n",
       "      <th>D_133_0</th>\n",
       "      <th>R_28_0</th>\n",
       "      <th>D_139_0</th>\n",
       "      <th>D_140_0</th>\n",
       "      <th>D_141_0</th>\n",
       "      <th>D_143_0</th>\n",
       "      <th>D_144_0</th>\n",
       "      <th>D_145_0</th>\n",
       "    </tr>\n",
       "  </thead>\n",
       "  <tbody>\n",
       "    <tr>\n",
       "      <th>0</th>\n",
       "      <td>0.056604</td>\n",
       "      <td>0.230769</td>\n",
       "      <td>0.255796</td>\n",
       "      <td>0.007591</td>\n",
       "      <td>0.208633</td>\n",
       "      <td>1.004648</td>\n",
       "      <td>1.003797</td>\n",
       "      <td>0.009316</td>\n",
       "      <td>0.004711</td>\n",
       "      <td>0.118879</td>\n",
       "      <td>...</td>\n",
       "      <td>1.002404</td>\n",
       "      <td>1.006387</td>\n",
       "      <td>1.501225</td>\n",
       "      <td>0.004692</td>\n",
       "      <td>1.005313</td>\n",
       "      <td>0.004475</td>\n",
       "      <td>0.876428</td>\n",
       "      <td>1.005640</td>\n",
       "      <td>0.001958</td>\n",
       "      <td>0.094792</td>\n",
       "    </tr>\n",
       "    <tr>\n",
       "      <th>1</th>\n",
       "      <td>0.115903</td>\n",
       "      <td>0.307692</td>\n",
       "      <td>0.473247</td>\n",
       "      <td>1.744329</td>\n",
       "      <td>0.163106</td>\n",
       "      <td>0.046546</td>\n",
       "      <td>0.253259</td>\n",
       "      <td>0.376542</td>\n",
       "      <td>0.120917</td>\n",
       "      <td>0.259087</td>\n",
       "      <td>...</td>\n",
       "      <td>0.007439</td>\n",
       "      <td>0.004521</td>\n",
       "      <td>0.004727</td>\n",
       "      <td>0.004850</td>\n",
       "      <td>0.004179</td>\n",
       "      <td>0.002910</td>\n",
       "      <td>0.004125</td>\n",
       "      <td>0.004739</td>\n",
       "      <td>0.003015</td>\n",
       "      <td>0.000415</td>\n",
       "    </tr>\n",
       "    <tr>\n",
       "      <th>2</th>\n",
       "      <td>0.088949</td>\n",
       "      <td>0.307692</td>\n",
       "      <td>0.989204</td>\n",
       "      <td>0.009665</td>\n",
       "      <td>0.008346</td>\n",
       "      <td>0.810322</td>\n",
       "      <td>0.005626</td>\n",
       "      <td>0.008064</td>\n",
       "      <td>0.006941</td>\n",
       "      <td>0.001926</td>\n",
       "      <td>...</td>\n",
       "      <td>0.007380</td>\n",
       "      <td>0.000697</td>\n",
       "      <td>0.001616</td>\n",
       "      <td>0.001213</td>\n",
       "      <td>0.002935</td>\n",
       "      <td>0.004522</td>\n",
       "      <td>0.006624</td>\n",
       "      <td>0.001399</td>\n",
       "      <td>0.005270</td>\n",
       "      <td>0.007177</td>\n",
       "    </tr>\n",
       "    <tr>\n",
       "      <th>3</th>\n",
       "      <td>0.091644</td>\n",
       "      <td>0.153846</td>\n",
       "      <td>0.068484</td>\n",
       "      <td>0.914384</td>\n",
       "      <td>1.318354</td>\n",
       "      <td>0.000749</td>\n",
       "      <td>0.754111</td>\n",
       "      <td>0.005856</td>\n",
       "      <td>0.260480</td>\n",
       "      <td>0.384178</td>\n",
       "      <td>...</td>\n",
       "      <td>0.001853</td>\n",
       "      <td>0.004438</td>\n",
       "      <td>0.003699</td>\n",
       "      <td>0.008947</td>\n",
       "      <td>0.004734</td>\n",
       "      <td>0.008115</td>\n",
       "      <td>0.004823</td>\n",
       "      <td>0.003049</td>\n",
       "      <td>0.001506</td>\n",
       "      <td>0.008167</td>\n",
       "    </tr>\n",
       "    <tr>\n",
       "      <th>4</th>\n",
       "      <td>0.040431</td>\n",
       "      <td>0.076923</td>\n",
       "      <td>0.286224</td>\n",
       "      <td>0.007035</td>\n",
       "      <td>0.003712</td>\n",
       "      <td>0.815825</td>\n",
       "      <td>0.507655</td>\n",
       "      <td>0.008014</td>\n",
       "      <td>0.000327</td>\n",
       "      <td>0.131792</td>\n",
       "      <td>...</td>\n",
       "      <td>0.002419</td>\n",
       "      <td>0.000184</td>\n",
       "      <td>0.004038</td>\n",
       "      <td>0.006742</td>\n",
       "      <td>0.000577</td>\n",
       "      <td>0.005503</td>\n",
       "      <td>0.001053</td>\n",
       "      <td>0.003976</td>\n",
       "      <td>0.007178</td>\n",
       "      <td>0.008273</td>\n",
       "    </tr>\n",
       "  </tbody>\n",
       "</table>\n",
       "<p>5 rows × 151 columns</p>\n",
       "</div>"
      ],
      "text/plain": [
       "   Diff_date_0  num_date     P_2_0    D_39_0     B_1_0     B_2_0     R_1_0  \\\n",
       "0     0.056604  0.230769  0.255796  0.007591  0.208633  1.004648  1.003797   \n",
       "1     0.115903  0.307692  0.473247  1.744329  0.163106  0.046546  0.253259   \n",
       "2     0.088949  0.307692  0.989204  0.009665  0.008346  0.810322  0.005626   \n",
       "3     0.091644  0.153846  0.068484  0.914384  1.318354  0.000749  0.754111   \n",
       "4     0.040431  0.076923  0.286224  0.007035  0.003712  0.815825  0.507655   \n",
       "\n",
       "     D_41_0     B_3_0    D_44_0  ...   D_130_0   D_131_0   D_133_0    R_28_0  \\\n",
       "0  0.009316  0.004711  0.118879  ...  1.002404  1.006387  1.501225  0.004692   \n",
       "1  0.376542  0.120917  0.259087  ...  0.007439  0.004521  0.004727  0.004850   \n",
       "2  0.008064  0.006941  0.001926  ...  0.007380  0.000697  0.001616  0.001213   \n",
       "3  0.005856  0.260480  0.384178  ...  0.001853  0.004438  0.003699  0.008947   \n",
       "4  0.008014  0.000327  0.131792  ...  0.002419  0.000184  0.004038  0.006742   \n",
       "\n",
       "    D_139_0   D_140_0   D_141_0   D_143_0   D_144_0   D_145_0  \n",
       "0  1.005313  0.004475  0.876428  1.005640  0.001958  0.094792  \n",
       "1  0.004179  0.002910  0.004125  0.004739  0.003015  0.000415  \n",
       "2  0.002935  0.004522  0.006624  0.001399  0.005270  0.007177  \n",
       "3  0.004734  0.008115  0.004823  0.003049  0.001506  0.008167  \n",
       "4  0.000577  0.005503  0.001053  0.003976  0.007178  0.008273  \n",
       "\n",
       "[5 rows x 151 columns]"
      ]
     },
     "execution_count": 34,
     "metadata": {},
     "output_type": "execute_result"
    }
   ],
   "source": [
    "df_train.head(5)"
   ]
  },
  {
   "cell_type": "code",
   "execution_count": 35,
   "id": "7f16194f",
   "metadata": {},
   "outputs": [
    {
     "data": {
      "text/plain": [
       "(21671, 5, 31)"
      ]
     },
     "execution_count": 35,
     "metadata": {},
     "output_type": "execute_result"
    }
   ],
   "source": [
    "df_num_date = df_train[\"num_date\"] / 5\n",
    "df_train = df_train.drop(columns =[\"num_date\"])\n",
    "\n",
    "df_train.insert(2,\"num_date1\",df_num_date)\n",
    "df_train.insert(9,\"num_date2\",df_num_date)\n",
    "df_train.insert(16,\"num_date3\",df_num_date)\n",
    "df_train.insert(23,\"num_date4\",df_num_date)\n",
    "df_train.insert(30,\"num_date5\",df_num_date)\n",
    "\n",
    "row, col = df_train.shape\n",
    "df_train = np.reshape(df_train.to_numpy(),(-1,5,31))\n",
    "df_train.shape"
   ]
  },
  {
   "cell_type": "markdown",
   "id": "2829cbae",
   "metadata": {},
   "source": [
    "<a id = \"T3\"></a></a><div style=\"text-align: right\"> <a href=#Table_of_content>Back?</a> </div>\n",
    "# Build the model"
   ]
  },
  {
   "cell_type": "code",
   "execution_count": 36,
   "id": "bb0ddf58",
   "metadata": {},
   "outputs": [],
   "source": [
    "import tensorflow as tf\n",
    "from tensorflow.keras.models import Sequential\n",
    "from tensorflow.keras.layers import Activation,Dense\n",
    "from tensorflow.keras.layers import Conv1D, Conv2D, MaxPooling2D, MaxPooling1D, Flatten,Dropout\n",
    "from keras.callbacks import EarlyStopping"
   ]
  },
  {
   "cell_type": "code",
   "execution_count": 37,
   "id": "e3989a2f",
   "metadata": {},
   "outputs": [],
   "source": [
    "def process_x_y_train_valid(df_train, df_label, s):\n",
    "    x_train = df_train[: int(df_train.shape[0] * 0.80)][...,None]\n",
    "    x_valid = df_train[int(df_train.shape[0] * 0.80):][...,None]\n",
    "\n",
    "    y_train = df_label[: int(df_label.shape[0] * 0.80)].to_numpy()\n",
    "    y_train = np.reshape(y_train, (y_train.shape[0],))\n",
    "    y_train = tf.one_hot(y_train, 2)\n",
    "    \n",
    "    y_valid = df_label[int(df_label.shape[0] * 0.80):].to_numpy()\n",
    "    y_valid = np.reshape(y_valid, (y_valid.shape[0],))\n",
    "    y_valid = tf.one_hot(y_valid, 2)\n",
    "    \n",
    "    print(f\"For train dataset {s}: \", x_train.shape, y_train.shape)\n",
    "    print(f\"For validation dataset {s}: \", x_valid.shape, y_valid.shape,\"\\n\")\n",
    "    return x_train, y_train, x_valid, y_valid"
   ]
  },
  {
   "cell_type": "code",
   "execution_count": 42,
   "id": "34d91a64",
   "metadata": {},
   "outputs": [
    {
     "name": "stdout",
     "output_type": "stream",
     "text": [
      "For train dataset 1_4:  (17336, 5, 31, 1) (17336, 2)\n",
      "For validation dataset 1_4:  (4335, 5, 31, 1) (4335, 2) \n",
      "\n"
     ]
    }
   ],
   "source": [
    "x_train14, y_train14, x_valid14, y_valid14 = process_x_y_train_valid(df_train, df_label, \"1_4\")"
   ]
  },
  {
   "cell_type": "code",
   "execution_count": 24,
   "id": "fe30e8d5",
   "metadata": {},
   "outputs": [],
   "source": [
    "def create_ANN(input_data):\n",
    "    \n",
    "    model = Sequential()\n",
    "    model.add(Conv2D(128, (2,2),activation = 'relu', input_shape = input_data.shape[1:] ))\n",
    "    model.add(MaxPooling2D())\n",
    "    model.add(Conv2D(128, (2,2),activation = 'relu', input_shape = input_data.shape[1:] ))\n",
    "    model.add(Flatten())\n",
    "    model.add(Dense(128, activation = 'relu'))\n",
    "    model.add(Dropout(0.7))\n",
    "    model.add(Dense(64, activation = 'relu'))    \n",
    "    model.add(Dropout(0.7))\n",
    "    model.add(Dense(2, activation = 'softmax'))\n",
    "    \n",
    "    return model"
   ]
  },
  {
   "cell_type": "code",
   "execution_count": 25,
   "id": "8ef2a8b5",
   "metadata": {
    "scrolled": true
   },
   "outputs": [
    {
     "name": "stdout",
     "output_type": "stream",
     "text": [
      "Model: \"sequential_4\"\n",
      "_________________________________________________________________\n",
      " Layer (type)                Output Shape              Param #   \n",
      "=================================================================\n",
      " conv2d_7 (Conv2D)           (None, 4, 30, 128)        640       \n",
      "                                                                 \n",
      " max_pooling2d_4 (MaxPooling  (None, 2, 15, 128)       0         \n",
      " 2D)                                                             \n",
      "                                                                 \n",
      " conv2d_8 (Conv2D)           (None, 1, 14, 128)        65664     \n",
      "                                                                 \n",
      " flatten_3 (Flatten)         (None, 1792)              0         \n",
      "                                                                 \n",
      " dense_9 (Dense)             (None, 128)               229504    \n",
      "                                                                 \n",
      " dropout_6 (Dropout)         (None, 128)               0         \n",
      "                                                                 \n",
      " dense_10 (Dense)            (None, 64)                8256      \n",
      "                                                                 \n",
      " dropout_7 (Dropout)         (None, 64)                0         \n",
      "                                                                 \n",
      " dense_11 (Dense)            (None, 2)                 130       \n",
      "                                                                 \n",
      "=================================================================\n",
      "Total params: 304,194\n",
      "Trainable params: 304,194\n",
      "Non-trainable params: 0\n",
      "_________________________________________________________________\n",
      "None\n"
     ]
    }
   ],
   "source": [
    "ANN_1_4 = create_ANN(x_train14)\n",
    "print(ANN_1_4.summary())"
   ]
  },
  {
   "cell_type": "code",
   "execution_count": 26,
   "id": "b34e303f",
   "metadata": {
    "scrolled": true
   },
   "outputs": [
    {
     "name": "stdout",
     "output_type": "stream",
     "text": [
      "Epoch 1/50\n",
      "136/136 [==============================] - 4s 26ms/step - loss: 0.6238 - accuracy: 0.6699 - val_loss: 0.5332 - val_accuracy: 0.7359\n",
      "Epoch 2/50\n",
      "136/136 [==============================] - 3s 25ms/step - loss: 0.5447 - accuracy: 0.7409 - val_loss: 0.5098 - val_accuracy: 0.7693\n",
      "Epoch 3/50\n",
      "136/136 [==============================] - 3s 25ms/step - loss: 0.5003 - accuracy: 0.7667 - val_loss: 0.4527 - val_accuracy: 0.7880\n",
      "Epoch 4/50\n",
      "136/136 [==============================] - 4s 26ms/step - loss: 0.4702 - accuracy: 0.7787 - val_loss: 0.4478 - val_accuracy: 0.7965\n",
      "Epoch 5/50\n",
      "136/136 [==============================] - 4s 26ms/step - loss: 0.4590 - accuracy: 0.7903 - val_loss: 0.4327 - val_accuracy: 0.8072\n",
      "Epoch 6/50\n",
      "136/136 [==============================] - 3s 26ms/step - loss: 0.4485 - accuracy: 0.7928 - val_loss: 0.4508 - val_accuracy: 0.7799\n",
      "Epoch 7/50\n",
      "136/136 [==============================] - 4s 26ms/step - loss: 0.4420 - accuracy: 0.7956 - val_loss: 0.4227 - val_accuracy: 0.8060\n",
      "Epoch 8/50\n",
      "136/136 [==============================] - 4s 26ms/step - loss: 0.4396 - accuracy: 0.7981 - val_loss: 0.4153 - val_accuracy: 0.8092\n",
      "Epoch 9/50\n",
      "136/136 [==============================] - 4s 26ms/step - loss: 0.4322 - accuracy: 0.8012 - val_loss: 0.4114 - val_accuracy: 0.8125\n",
      "Epoch 10/50\n",
      "136/136 [==============================] - 4s 26ms/step - loss: 0.4285 - accuracy: 0.8025 - val_loss: 0.4088 - val_accuracy: 0.8143\n",
      "Epoch 11/50\n",
      "136/136 [==============================] - 4s 26ms/step - loss: 0.4287 - accuracy: 0.8053 - val_loss: 0.4381 - val_accuracy: 0.7963\n",
      "Epoch 12/50\n",
      "136/136 [==============================] - 4s 26ms/step - loss: 0.4267 - accuracy: 0.8035 - val_loss: 0.4159 - val_accuracy: 0.8113\n",
      "Epoch 13/50\n",
      "136/136 [==============================] - 4s 26ms/step - loss: 0.4231 - accuracy: 0.8072 - val_loss: 0.4078 - val_accuracy: 0.8157\n",
      "Epoch 14/50\n",
      "136/136 [==============================] - 4s 26ms/step - loss: 0.4167 - accuracy: 0.8075 - val_loss: 0.4001 - val_accuracy: 0.8129\n",
      "Epoch 15/50\n",
      "136/136 [==============================] - 4s 26ms/step - loss: 0.4190 - accuracy: 0.8071 - val_loss: 0.4051 - val_accuracy: 0.8134\n",
      "Epoch 16/50\n",
      "136/136 [==============================] - 4s 26ms/step - loss: 0.4113 - accuracy: 0.8115 - val_loss: 0.4062 - val_accuracy: 0.8122\n",
      "Epoch 17/50\n",
      "136/136 [==============================] - 4s 26ms/step - loss: 0.4176 - accuracy: 0.8101 - val_loss: 0.4163 - val_accuracy: 0.8074\n",
      "Epoch 18/50\n",
      "136/136 [==============================] - 4s 26ms/step - loss: 0.4089 - accuracy: 0.8106 - val_loss: 0.4269 - val_accuracy: 0.8122\n",
      "Epoch 19/50\n",
      "136/136 [==============================] - 4s 26ms/step - loss: 0.4113 - accuracy: 0.8093 - val_loss: 0.4244 - val_accuracy: 0.8164\n",
      "Epoch 20/50\n",
      "136/136 [==============================] - 4s 26ms/step - loss: 0.4089 - accuracy: 0.8126 - val_loss: 0.4111 - val_accuracy: 0.8129\n",
      "Epoch 21/50\n",
      "136/136 [==============================] - 4s 27ms/step - loss: 0.4042 - accuracy: 0.8143 - val_loss: 0.4138 - val_accuracy: 0.8138\n",
      "Epoch 22/50\n",
      "136/136 [==============================] - 4s 26ms/step - loss: 0.4126 - accuracy: 0.8133 - val_loss: 0.4179 - val_accuracy: 0.8155\n",
      "Epoch 23/50\n",
      "136/136 [==============================] - 4s 27ms/step - loss: 0.4039 - accuracy: 0.8122 - val_loss: 0.4170 - val_accuracy: 0.8152\n",
      "Epoch 24/50\n",
      "136/136 [==============================] - 4s 26ms/step - loss: 0.4030 - accuracy: 0.8159 - val_loss: 0.4060 - val_accuracy: 0.8141\n",
      "Epoch 25/50\n",
      "136/136 [==============================] - 4s 26ms/step - loss: 0.4125 - accuracy: 0.8163 - val_loss: 0.4378 - val_accuracy: 0.8148\n",
      "Epoch 26/50\n",
      "136/136 [==============================] - 4s 27ms/step - loss: 0.4101 - accuracy: 0.8132 - val_loss: 0.4087 - val_accuracy: 0.8148\n",
      "Epoch 27/50\n",
      "136/136 [==============================] - 4s 27ms/step - loss: 0.4066 - accuracy: 0.8149 - val_loss: 0.4084 - val_accuracy: 0.8155\n"
     ]
    }
   ],
   "source": [
    "callbacks = [EarlyStopping(monitor = 'val_accuracy', patience = 8, min_delta = 0, mode = 'auto')]\n",
    "ANN_1_4.compile(loss = tf.keras.losses.BinaryCrossentropy(), optimizer = tf.keras.optimizers.RMSprop(learning_rate=0.0003), metrics = ['accuracy'])\n",
    "\n",
    "# Try without callback\n",
    "history = ANN_1_4.fit(x_train14, y_train14, batch_size = 128, epochs = 50, \n",
    "                      validation_data = (x_valid14, y_valid14),callbacks=callbacks, verbose=1)"
   ]
  },
  {
   "cell_type": "code",
   "execution_count": 28,
   "id": "6f67441b",
   "metadata": {},
   "outputs": [],
   "source": [
    "ANN_1_4.save(\"ANN14.h5\")"
   ]
  },
  {
   "cell_type": "code",
   "execution_count": 27,
   "id": "768230f1",
   "metadata": {},
   "outputs": [
    {
     "data": {
      "text/plain": [
       "<matplotlib.legend.Legend at 0x24dca920190>"
      ]
     },
     "execution_count": 27,
     "metadata": {},
     "output_type": "execute_result"
    },
    {
     "data": {
      "image/png": "[encoded data removed]",
      "text/plain": [
       "<Figure size 432x288 with 1 Axes>"
      ]
     },
     "metadata": {
      "needs_background": "light"
     },
     "output_type": "display_data"
    }
   ],
   "source": [
    "import matplotlib.pyplot as plt\n",
    "plt.plot(range(1,len(history.history['loss']) + 1), history.history['accuracy'],label=\"loss\", color = 'g')\n",
    "plt.plot(range(1,len(history.history['loss']) + 1), history.history['val_accuracy'],label=\"val_loss\", color = 'b')\n",
    "plt.xlabel('epoch', fontsize = 12)\n",
    "plt.legend()"
   ]
  },
  {
   "cell_type": "code",
   "execution_count": 44,
   "id": "f6b4a25b",
   "metadata": {},
   "outputs": [
    {
     "name": "stdout",
     "output_type": "stream",
     "text": [
      "For model ANN14_2.h5\n",
      "F1-score: 0.7311827956989246\n",
      "Accuracy: 0.8154555940023068\n",
      "\n"
     ]
    }
   ],
   "source": [
    "from sklearn.metrics import f1_score, accuracy_score\n",
    "\n",
    "def get_score(filename):\n",
    "    ANN_model = tf.keras.models.load_model(filename)\n",
    "    result1 =  ANN_model.predict(x_valid14)\n",
    "    print(\"For model\",filename)\n",
    "    print(\"F1-score:\",f1_score(np.argmax(result1,axis=1), np.argmax(y_valid14,axis=1)))\n",
    "    print(\"Accuracy:\",accuracy_score(np.argmax(result1,axis=1), np.argmax(y_valid14,axis=1)))\n",
    "    print(\"\")\n",
    "\n",
    "get_score(\"ANN14.h5\")"
   ]
  },
  {
   "cell_type": "code",
   "execution_count": 9,
   "id": "5eec8040-2848-4a06-8cfb-c2063255d617",
   "metadata": {},
   "outputs": [
    {
     "name": "stdout",
     "output_type": "stream",
     "text": [
      "Combination 1: (49.9, 65.9), Sum: 115.80000000000001\n",
      "Combination 2: (49.9, 65.9), Sum: 115.80000000000001\n",
      "Combination 3: (55, 59.5), Sum: 114.5\n",
      "Combination 4: (49.9, 59.5), Sum: 109.4\n",
      "Combination 5: (49.9, 59.5), Sum: 109.4\n",
      "Combination 6: (49.9, 55), Sum: 104.9\n",
      "Combination 7: (49.9, 55), Sum: 104.9\n",
      "Combination 8: (49.9, 49.9), Sum: 99.8\n",
      "Combination 9: (65.9,), Sum: 65.9\n",
      "Combination 10: (59.5,), Sum: 59.5\n",
      "Combination 11: (55,), Sum: 55\n",
      "Combination 12: (49.9,), Sum: 49.9\n",
      "Combination 13: (49.9,), Sum: 49.9\n"
     ]
    }
   ],
   "source": [
    "from itertools import combinations\n",
    "\n",
    "def get_combinations(prize_list, n, max_sum=100):\n",
    "    # Step 1: Find all possible combinations within the max sum limit\n",
    "    valid_combinations = []\n",
    "    for r in range(1, len(prize_list) + 1):\n",
    "        for combo in combinations(prize_list, r):\n",
    "            if sum(combo) <= max_sum:\n",
    "                valid_combinations.append(combo)\n",
    "    \n",
    "    # Step 2: Sort combinations by sum in descending order to maximize\n",
    "    valid_combinations = sorted(valid_combinations, key=lambda x: sum(x), reverse=True)\n",
    "    \n",
    "    # Step 3: Return the top 'n' combinations\n",
    "    return valid_combinations[:n]\n",
    "\n",
    "# Prize list and number of combinations to find\n",
    "prize_list = [49.9,49.9,55,59.5,65.9]\n",
    "n = 50  # Number of combinations to return\n",
    "\n",
    "# Get combinations\n",
    "\n",
    "top_combinations = get_combinations(prize_list, n, 120)\n",
    "for idx, combo in enumerate(top_combinations, 1):\n",
    "    print(f\"Combination {idx}: {combo}, Sum: {sum(combo)}\")"
   ]
  },
  {
   "cell_type": "code",
   "execution_count": null,
   "id": "a06b479d-b40f-4836-9221-085579cfa13a",
   "metadata": {},
   "outputs": [],
   "source": []
  }
 ],
 "metadata": {
  "kernelspec": {
   "display_name": "Python 3 (ipykernel)",
   "language": "python",
   "name": "python3"
  },
  "language_info": {
   "codemirror_mode": {
    "name": "ipython",
    "version": 3
   },
   "file_extension": ".py",
   "mimetype": "text/x-python",
   "name": "python",
   "nbconvert_exporter": "python",
   "pygments_lexer": "ipython3",
   "version": "3.11.5"
  }
 },
 "nbformat": 4,
 "nbformat_minor": 5
}
